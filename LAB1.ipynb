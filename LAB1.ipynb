{
 "cells": [
  {
   "metadata": {},
   "cell_type": "markdown",
   "source": [
    "# Projekt LAB 1 Dane Facebook \n",
    "Maciej Klimiuk , Hanna Mika\n",
    "\n"
   ],
   "id": "1a27673bf5161860"
  },
  {
   "metadata": {
    "ExecuteTime": {
     "end_time": "2024-11-18T11:49:24.426679Z",
     "start_time": "2024-11-18T11:49:24.421966Z"
    }
   },
   "cell_type": "code",
   "source": [
    "import pandas as pd\n",
    "import numpy as np\n",
    "import matplotlib.pyplot as plt\n",
    "import plotly.express as px\n",
    "from sklearn.linear_model import LinearRegression\n",
    "from sklearn.model_selection import train_test_split\n",
    "from sklearn.metrics import mean_squared_error, r2_score\n",
    "from sklearn.metrics._regression import root_mean_squared_error\n",
    "\n",
    "\n"
   ],
   "id": "f074ab9b335f365d",
   "outputs": [],
   "execution_count": 322
  },
  {
   "metadata": {
    "ExecuteTime": {
     "end_time": "2024-11-18T11:49:24.491366Z",
     "start_time": "2024-11-18T11:49:24.483401Z"
    }
   },
   "cell_type": "code",
   "source": [
    "# Wczytaj dane\n",
    "data = pd.read_csv(\"data.csv\", sep=\";\")\n",
    "# nowa kolumna o nazwie koszty = przychód - zysk \n",
    "data[\"Koszty w mln $\"] = data[\"Przychód w mln $\"] - data[\"Zysk w mln $\"]\n",
    "print(data)\n"
   ],
   "id": "1ab28ed6f1f619d5",
   "outputs": [
    {
     "name": "stdout",
     "output_type": "stream",
     "text": [
      "     Rok  Przychód w mln $  Zysk w mln $  Zatrudnienie  Użytkownicy_mln  \\\n",
      "0   2007               153          -138           450                0   \n",
      "1   2008               272           -56           850                0   \n",
      "2   2009               777           229          1218              360   \n",
      "3   2010              1974           606          2127              608   \n",
      "4   2011              3711          1000          3200              845   \n",
      "5   2012              5089            53          4619             1056   \n",
      "6   2013              7872          1500          6337             1228   \n",
      "7   2014             12466          2940          9199             1393   \n",
      "8   2015             17928          3688         12691             1591   \n",
      "9   2016             27638         10217         17048             1860   \n",
      "10  2017             40653         15934         25105             2129   \n",
      "\n",
      "    Koszty w mln $  \n",
      "0              291  \n",
      "1              328  \n",
      "2              548  \n",
      "3             1368  \n",
      "4             2711  \n",
      "5             5036  \n",
      "6             6372  \n",
      "7             9526  \n",
      "8            14240  \n",
      "9            17421  \n",
      "10           24719  \n"
     ]
    }
   ],
   "execution_count": 323
  },
  {
   "metadata": {
    "ExecuteTime": {
     "end_time": "2024-11-18T11:49:24.505940Z",
     "start_time": "2024-11-18T11:49:24.499137Z"
    }
   },
   "cell_type": "code",
   "source": [
    "\n",
    "# wszystkie korelacje\n",
    "print(data.corr())\n"
   ],
   "id": "a95e8d7b5ec428bd",
   "outputs": [
    {
     "name": "stdout",
     "output_type": "stream",
     "text": [
      "                       Rok  Przychód w mln $  Zysk w mln $  Zatrudnienie  \\\n",
      "Rok               1.000000          0.892709      0.800024      0.917137   \n",
      "Przychód w mln $  0.892709          1.000000      0.977588      0.997597   \n",
      "Zysk w mln $      0.800024          0.977588      1.000000      0.962063   \n",
      "Zatrudnienie      0.917137          0.997597      0.962063      1.000000   \n",
      "Użytkownicy_mln   0.996088          0.893330      0.805706      0.916392   \n",
      "Koszty w mln $    0.930780          0.991064      0.940772      0.997032   \n",
      "\n",
      "                  Użytkownicy_mln  Koszty w mln $  \n",
      "Rok                      0.996088        0.930780  \n",
      "Przychód w mln $         0.893330        0.991064  \n",
      "Zysk w mln $             0.805706        0.940772  \n",
      "Zatrudnienie             0.916392        0.997032  \n",
      "Użytkownicy_mln          1.000000        0.928180  \n",
      "Koszty w mln $           0.928180        1.000000  \n"
     ]
    }
   ],
   "execution_count": 324
  },
  {
   "metadata": {
    "ExecuteTime": {
     "end_time": "2024-11-18T11:49:24.759764Z",
     "start_time": "2024-11-18T11:49:24.550450Z"
    }
   },
   "cell_type": "code",
   "source": [
    "\n",
    "#3. Przychód(OY)  liczba pracowników (OX)\n",
    "\n",
    "\n",
    "#model kwadratowy nr 1\n",
    "# dane testowe pierwsze 6 wartosci, kolejne 3 wartosci to dane walidacyjne\n",
    "y_train = data[\"Przychód w mln $\"][:8]\n",
    "y_test = data[\"Przychód w mln $\"][8:]\n",
    "X_train = data[[\"Zatrudnienie\"]][:8]\n",
    "X_test = data[[\"Zatrudnienie\"]][8:]\n",
    "\n",
    "\n",
    "# zmiana danych na wielomianowe stopnia 2\n",
    "X_train_poly = np.c_[X_train, X_train**2]\n",
    "X_test_poly = np.c_[X_test, X_test**2]\n",
    "\n",
    "# trenowanie modelu\n",
    "model2 = LinearRegression()\n",
    "model2.fit(X_train_poly, y_train)\n",
    "\n",
    "# prognozy dla danych walidacyjnych\n",
    "y_pred_test = model2.predict(X_test_poly)\n",
    "\n",
    "print(\"Współczynniki modelu R^2: \", model2.score(X_test_poly, y_test))\n",
    "print(\"Współczynnik modelu RMSE:\", mean_squared_error(y_test, y_pred_test))\n",
    "\n",
    "print(\"Współczynniki modelu R^2: \", model2.score(np.c_[data[[\"Zatrudnienie\"]], data[[\"Zatrudnienie\"]]**2], data[\"Przychód w mln $\"]))\n",
    "print(\"Współczynnik modelu RMSE:\", mean_squared_error(data[\"Przychód w mln $\"], model2.predict(np.c_[data[[\"Zatrudnienie\"]], data[[\"Zatrudnienie\"]]**2])))\n",
    "\n",
    "\n",
    "# prognozy dla całego zbioru danych\n",
    "data[\"Prognoza_Przychód\"] = model2.predict(np.c_[data[[\"Zatrudnienie\"]], data[[\"Zatrudnienie\"]]**2])\n",
    "\n",
    "\n",
    "\n",
    "# Wykres\n",
    "plt.scatter(X_train, y_train, color='red', label='Dane treningowe')\n",
    "# Linia przerywana dla regresji danych treningowych\n",
    "plt.plot(\n",
    "    X_train,\n",
    "    model2.predict(X_train_poly),\n",
    "    color='blue',\n",
    "    linewidth=2,\n",
    "    label='Regresja (Dane treningowe)'\n",
    ")\n",
    "\n",
    "plt.scatter(X_test, y_test, color='green', label='Dane walidacyjne')\n",
    "plt.plot(X_test, y_pred_test, color='orange', label='Prognozy (Dane walidacyjne)')\n",
    "\n",
    "# Wydłużenie linii regresji dla całego zbioru\n",
    "zatrudnienie_extended = np.linspace(data[\"Zatrudnienie\"].min(), data[\"Zatrudnienie\"].max() * 1.2, 500)\n",
    "prognoza_extended = model2.predict(\n",
    "    np.c_[zatrudnienie_extended, zatrudnienie_extended**2]\n",
    ")\n",
    "# Linia przerywana dla regresji całego zbioru\n",
    "plt.plot(zatrudnienie_extended, prognoza_extended, color='cyan', linestyle='dotted', label='Prognozy (Cały zbiór)')\n",
    "#bar error\n",
    "plt.legend()\n",
    "# Obliczenie reszt modelu (różnice między przewidywaniami a rzeczywistymi wartościami)\n",
    "residuals = y_test - y_pred_test\n",
    "\n",
    "# Odchylenie standardowe reszt\n",
    "std_error = np.std(residuals)\n",
    "\n",
    "# Wyznaczenie przedziału ufności\n",
    "confidence_interval = 1.96 * std_error  # 95% przedział ufności\n",
    "\n",
    "# Dodanie errorbar\n",
    "plt.errorbar(\n",
    "    X_test.squeeze(),\n",
    "    y_pred_test,\n",
    "    yerr=confidence_interval,\n",
    "    fmt='o',\n",
    "    color='orange',\n",
    "    label='Prognozy (Dane walidacyjne)'\n",
    ")\n",
    "plt.xlabel(\"Zatrudnienie\")\n",
    "plt.ylabel(\"Przychód w mln $\")\n",
    "plt.title(\"Regresja: Zatrudnienie vs Przychód oraz Przedziały Ufności\")\n",
    "plt.show()\n",
    "\n",
    "# wzór regresji kwadratowej\n",
    "\n",
    "# y = a0 + a1*x + a2*x^2\n",
    "a0 = model2.intercept_\n",
    "a1 = model2.coef_[0]\n",
    "a2 = model2.coef_[1]\n",
    "\n",
    "print(\"Wzór regresji kwadratowej:\", f\"y = {a0} + {a1} * x + {a2} * x^2\")\n",
    "\n"
   ],
   "id": "ae3992d21b6b70f2",
   "outputs": [
    {
     "name": "stdout",
     "output_type": "stream",
     "text": [
      "Współczynniki modelu R^2:  0.8121169252480658\n",
      "Współczynnik modelu RMSE: 16285286.357758908\n",
      "Współczynniki modelu R^2:  0.9714964274383514\n",
      "Współczynnik modelu RMSE: 4462872.080936857\n"
     ]
    },
    {
     "data": {
      "text/plain": [
       "<Figure size 640x480 with 1 Axes>"
      ],
      "image/png": "[encoded data removed]"
     },
     "metadata": {},
     "output_type": "display_data"
    },
    {
     "name": "stdout",
     "output_type": "stream",
     "text": [
      "Wzór regresji kwadratowej: y = -526.7069795869229 + 1.119395477790044 * x + 3.175135170954074e-05 * x^2\n"
     ]
    }
   ],
   "execution_count": 325
  },
  {
   "metadata": {
    "ExecuteTime": {
     "end_time": "2024-11-18T11:49:24.917960Z",
     "start_time": "2024-11-18T11:49:24.792033Z"
    }
   },
   "cell_type": "code",
   "source": [
    "#4. Liczba pracowników (OX) przychód(OY)\n",
    "\n",
    "# dane treningowe to pierwsze 8 rekordów, a dane walidacyjne to ostatnie 3 rekordy\n",
    "#Najpierw trenujemy model na danych treningowych, a następnie przewidujemy wartości dla danych walidacyjnych\n",
    "#Dane walidacyjne są używane do oceny jakości modelu\n",
    "#Następnie przewidujemy wartości dla całego zbioru danych, aby zobaczyć, jak model zachowuje się na całym zbiorze danych\n",
    "\n",
    "# trenowanie modelu\n",
    "X_train = data[[\"Zatrudnienie\"]][:8]\n",
    "X_test = data[[\"Zatrudnienie\"]][8:]\n",
    "y_train = data[\"Przychód w mln $\"][:8]\n",
    "y_test = data[\"Przychód w mln $\"][8:]\n",
    "\n",
    "# trenowanie modelu\n",
    "model3 = LinearRegression()\n",
    "model3.fit(X_train, y_train)\n",
    "\n",
    "# prognozy dla danych walidacyjnych\n",
    "y_pred_test = model3.predict(X_test)\n",
    "\n",
    "# wypisanie wartości prognozowanych przychodów i wypisanie o ile się różnią od rzeczywistych wartości\n",
    "\n",
    "print(\"Współczynniki modelu R^2: \", model3.score(X_test, y_test))\n",
    "print(\"Współczynnik modelu RMSE:\", mean_squared_error(y_test, y_pred_test))\n",
    "\n",
    "# wykres\n",
    "plt.scatter(X_train, y_train, color='red', label='Dane treningowe')\n",
    "plt.plot(X_train, model3.predict(X_train), color='blue', label='Regresja (Dane treningowe)')\n",
    "plt.scatter(X_test, y_test, color='green', label='Dane walidacyjne')\n",
    "# regresja dla danych walidacyjnych\n",
    "plt.plot(X_test, y_pred_test, color='orange', label='Prognozy (Dane walidacyjne)')"
   ],
   "id": "ddc2081156d89e5",
   "outputs": [
    {
     "name": "stdout",
     "output_type": "stream",
     "text": [
      "Współczynniki modelu R^2:  0.7789570148784758\n",
      "Współczynnik modelu RMSE: 19159513.51568353\n"
     ]
    },
    {
     "data": {
      "text/plain": [
       "[<matplotlib.lines.Line2D at 0x19a6eddd950>]"
      ]
     },
     "execution_count": 326,
     "metadata": {},
     "output_type": "execute_result"
    },
    {
     "data": {
      "text/plain": [
       "<Figure size 640x480 with 1 Axes>"
      ],
      "image/png": "[encoded data removed]"
     },
     "metadata": {},
     "output_type": "display_data"
    }
   ],
   "execution_count": 326
  },
  {
   "metadata": {
    "ExecuteTime": {
     "end_time": "2024-11-18T11:49:25.118051Z",
     "start_time": "2024-11-18T11:49:24.949152Z"
    }
   },
   "cell_type": "code",
   "source": [
    "# DO PRZEMYŚLENIA\n",
    "#1. Przychód (OY) od liczby użytkowników (OX)\n",
    "\n",
    "# dane treningowe to pierwsze 8 rekordów, a dane walidacyjne to ostatnie 3 rekordy\n",
    "#Najpierw trenujemy model na danych treningowych, a następnie przewidujemy wartości dla danych walidacyjnych\n",
    "#Dane walidacyjne są używane do oceny jakości modelu\n",
    "#Następnie przewidujemy wartości dla całego zbioru danych, aby zobaczyć, jak model zachowuje się na całym zbiorze danych\n",
    "\n",
    "\n",
    "# trenowanie modelu\n",
    "X_train = data[[\"Użytkownicy_mln\"]][:6]\n",
    "X_test = data[[\"Użytkownicy_mln\"]][6:]\n",
    "y_train = data[\"Przychód w mln $\"][:6]\n",
    "y_test = data[\"Przychód w mln $\"][6:]\n",
    "\n",
    "#usuwanie wartości 0 z danych\n",
    "data = data[data[\"Użytkownicy_mln\"] != 0]\n",
    "\n",
    "\n",
    "\n",
    "model1 = LinearRegression()\n",
    "model1.fit(X_train, y_train)\n",
    "\n",
    "# prognozy dla danych walidacyjnych\n",
    "y_pred_test = model1.predict(X_test)\n",
    "\n",
    "# ocena jakości modelu\n",
    "print(\"Współczynniki modelu R^2: \", model1.score(X_test, y_test))\n",
    "print(\"Współczynnik modelu RMSE:\", mean_squared_error(y_test, y_pred_test))\n",
    "\n",
    "# drugi model z całym zbiorem danych\n",
    "model2 = LinearRegression()\n",
    "model2.fit(data[[\"Użytkownicy_mln\"]], data[\"Przychód w mln $\"])\n",
    "\n",
    "# ocena jakości modelu\n",
    "print(\"Współczynniki modelu R^2: \", model2.score(data[[\"Użytkownicy_mln\"]], data[\"Przychód w mln $\"]))\n",
    "print(\"Współczynnik modelu RMSE:\", mean_squared_error(data[\"Przychód w mln $\"], model2.predict(data[[\"Użytkownicy_mln\"]])))\n",
    "\n",
    "# prognozy dla całego zbioru danych\n",
    "data[\"Prognoza_Przychód\"] = model2.predict(data[[\"Użytkownicy_mln\"]])\n",
    "\n",
    "\n",
    "# Wykres\n",
    "plt.scatter(X_train, y_train, color='red', label='Dane treningowe')\n",
    "# Linia przerywana dla regresji danych treningowych\n",
    "plt.plot(\n",
    "    X_train,\n",
    "    model1.predict(X_train),\n",
    "    color='blue',\n",
    "    linewidth=2,\n",
    "    label='Regresja (Dane treningowe)'\n",
    ")\n",
    "\n",
    "plt.scatter(X_test, y_test, color='green', label='Dane walidacyjne')\n",
    "plt.plot(X_test, y_pred_test, color='orange', label='Prognozy (Dane walidacyjne)')\n",
    "# Wydłużenie linii regresji dla całego zbioru\n",
    "użytkownicy_extended = np.linspace(data[\"Użytkownicy_mln\"].min(), data[\"Użytkownicy_mln\"].max() * 1.2, 500)\n",
    "prognoza_extended = model2.predict(\n",
    "    użytkownicy_extended.reshape(-1, 1)\n",
    ")\n",
    "# Linia przerywana dla regresji całego zbioru\n",
    "plt.plot(użytkownicy_extended, prognoza_extended, color='cyan', linestyle='dotted', label='Prognozy (Cały zbiór)')\n",
    "#bar error\n",
    "plt.legend()\n",
    "# Obliczenie reszt modelu (różnice między przewidywaniami a rzeczywistymi wartościami)\n",
    "residuals = y_test - y_pred_test\n",
    "\n",
    "# Odchylenie standardowe reszt\n",
    "std_error = np.std(residuals)\n",
    "\n",
    "# Wyznaczenie przedziału ufności\n",
    "confidence_interval = 1.96 * std_error  # 95% przedział ufności\n",
    "\n",
    "# Dodanie errorbar\n",
    "plt.errorbar(\n",
    "    X_test.squeeze(),\n",
    "    y_pred_test,\n",
    "    yerr=confidence_interval,\n",
    "    fmt='o',\n",
    "    color='orange',\n",
    "    label='Prognozy (Dane walidacyjne)'\n",
    ")\n",
    "plt.xlabel(\"Użytkownicy_mln\")\n",
    "plt.ylabel(\"Przychód w mln $\")\n",
    "plt.title(\"Regresja: Użytkownicy_mln vs Przychód oraz Przedziały Ufności\")\n",
    "plt.show()\n",
    "\n",
    "\n",
    "\n",
    "\n",
    "# Nowy model regresji liniowej z funckją wykładniczą\n",
    "# dane treningowe to pierwsze 6 lat, a dane waliacyjne to ostatnie 3 lata\n",
    "\n",
    "\n",
    "\n",
    "# trenowanie modelu\n",
    "\n",
    "\n",
    "\n",
    "X_train_poly = np.c_[X_train, np.exp(X_train)]\n",
    "\n",
    "\n",
    "\n",
    "# trenowanie modelu\n",
    "model3 = LinearRegression()\n",
    "\n"
   ],
   "id": "4c027fafcf44a67e",
   "outputs": [
    {
     "name": "stdout",
     "output_type": "stream",
     "text": [
      "Współczynniki modelu R^2:  -1.23099631834478\n",
      "Współczynnik modelu RMSE: 305391861.83007896\n",
      "Współczynniki modelu R^2:  0.8714151219051808\n",
      "Współczynnik modelu RMSE: 20709789.269111127\n"
     ]
    },
    {
     "name": "stderr",
     "output_type": "stream",
     "text": [
      "D:\\Uczelnia\\MEDy\\pythonProject\\.venv\\Lib\\site-packages\\sklearn\\base.py:493: UserWarning:\n",
      "\n",
      "X does not have valid feature names, but LinearRegression was fitted with feature names\n",
      "\n"
     ]
    },
    {
     "data": {
      "text/plain": [
       "<Figure size 640x480 with 1 Axes>"
      ],
      "image/png": "[encoded data removed]"
     },
     "metadata": {},
     "output_type": "display_data"
    },
    {
     "name": "stderr",
     "output_type": "stream",
     "text": [
      "D:\\Uczelnia\\MEDy\\pythonProject\\.venv\\Lib\\site-packages\\pandas\\core\\internals\\blocks.py:393: RuntimeWarning:\n",
      "\n",
      "overflow encountered in exp\n",
      "\n"
     ]
    }
   ],
   "execution_count": 327
  },
  {
   "metadata": {
    "ExecuteTime": {
     "end_time": "2024-11-18T11:49:25.328314Z",
     "start_time": "2024-11-18T11:49:25.151599Z"
    }
   },
   "cell_type": "code",
   "source": [
    "#5. Liczba użytkowników (OY) od czasu (OX)\n",
    "\n",
    "# dane treningowe to pierwsze 6 rekordów, a dane walidacyjne to ostatnie 3 rekordy\n",
    "#Najpierw trenujemy model na danych treningowych, a następnie przewidujemy wartości dla danych walidacyjnyc\n",
    "\n",
    "# trenowanie modelu\n",
    "X_train = data[[\"Rok\"]][:6]\n",
    "X_test = data[[\"Rok\"]][6:]\n",
    "y_train = data[\"Użytkownicy_mln\"][:6]\n",
    "y_test = data[\"Użytkownicy_mln\"][6:]\n",
    "\n",
    "# trenowanie modelu\n",
    "model4 = LinearRegression()\n",
    "model4.fit(X_train, y_train)\n",
    "\n",
    "# prognozy dla danych walidacyjnych\n",
    "y_pred_test = model4.predict(X_test)\n",
    "\n",
    "# ocena jakości modelu\n",
    "print(\"Współczynniki modelu R^2: \", model4.score(X_test, y_test))\n",
    "print(\"Współczynnik modelu RMSE:\", mean_squared_error(y_test, y_pred_test))\n",
    "\n",
    "model5 = LinearRegression()\n",
    "model5.fit(data[[\"Rok\"]], data[\"Użytkownicy_mln\"])\n",
    "\n",
    "# wypisanie wartosci na lata 2018-2021\n",
    "X_future = pd.DataFrame({\"Rok\": [2018, 2019, 2020, 2021]})\n",
    "data_future = pd.concat([data, X_future], axis=0)\n",
    "data_future[\"Prognoza_Użytkownicy\"] = model5.predict(data_future[[\"Rok\"]])\n",
    "\n",
    "print(\"Prognozy użytkowników na lata 2018-2021:\")\n",
    "print(data_future[[\"Rok\", \"Prognoza_Użytkownicy\"]])\n",
    "# przerwa /n\n",
    "print(\"\\n\")\n",
    "\n",
    "\n",
    "# wykres\n",
    "plt.scatter(X_train, y_train, color='red', label='Dane treningowe')\n",
    "plt.plot(X_train, model5.predict(X_train), color='blue', label='Regresja (Dane treningowe)')\n",
    "plt.scatter(X_test, y_test, color='green', label='Dane walidacyjne')\n",
    "plt.plot(X_test, y_pred_test, color='orange', label='Prognozy (Dane walidacyjne)')\n",
    "\n",
    "# prognozy punktowe dla lat 2018-2021\n",
    "plt.scatter(data_future[[\"Rok\"]][9:], data_future[\"Prognoza_Użytkownicy\"][9:], color='black', label='Prognozy (2018-2021)', marker='x')\n",
    "# error bar dla prognozowanych wartości\n",
    "# Obliczenie reszt modelu (różnice między przewidywaniami a rzeczywistymi wartościami)\n",
    "residuals = y_test - y_pred_test\n",
    "\n",
    "# Odchylenie standardowe reszt\n",
    "std_error = np.std(residuals)\n",
    "\n",
    "# Wyznaczenie przedziału ufności\n",
    "confidence_interval = 1.96 * std_error  # 95% przedział ufności\n",
    "\n",
    "# Dodanie errorbar\n",
    "plt.errorbar(\n",
    "    X_test.squeeze(),\n",
    "    y_pred_test,\n",
    "    yerr=confidence_interval,\n",
    "    fmt='o',\n",
    "    color='orange',\n",
    "    label='Prognozy (Dane walidacyjne)'\n",
    ")\n",
    "# wykres predykcja modelu nr 5 linia przerywana\n",
    "plt.plot(data_future[[\"Rok\"]], data_future[\"Prognoza_Użytkownicy\"], color='cyan',  linestyle='dotted'  , label='Prognozy (Cały zbiór)')\n",
    "\n",
    "plt.legend()\n",
    "plt.xlabel(\"Rok\")\n",
    "plt.ylabel(\"Użytkownicy_mln\")\n",
    "plt.title(\"Regresja: Rok vs Użytkownicy oraz Przedziały Ufności\")\n",
    "plt.show()\n",
    "\n",
    "#wyliczenie współczynników modelu\n",
    "a0 = model5.intercept_\n",
    "a1 = model5.coef_[0]\n",
    "\n",
    "print(\"Wzór regresji liniowej:\", f\"y = {a0} + {a1} * x\")\n",
    "\n",
    "\n",
    "\n"
   ],
   "id": "24e6766423ceaaf5",
   "outputs": [
    {
     "name": "stdout",
     "output_type": "stream",
     "text": [
      "Współczynniki modelu R^2:  0.9419825653067996\n",
      "Współczynnik modelu RMSE: 2798.799727889784\n",
      "Prognozy użytkowników na lata 2018-2021:\n",
      "     Rok  Prognoza_Użytkownicy\n",
      "2   2009            385.933333\n",
      "3   2010            596.950000\n",
      "4   2011            807.966667\n",
      "5   2012           1018.983333\n",
      "6   2013           1230.000000\n",
      "7   2014           1441.016667\n",
      "8   2015           1652.033333\n",
      "9   2016           1863.050000\n",
      "10  2017           2074.066667\n",
      "0   2018           2285.083333\n",
      "1   2019           2496.100000\n",
      "2   2020           2707.116667\n",
      "3   2021           2918.133333\n",
      "\n",
      "\n"
     ]
    },
    {
     "data": {
      "text/plain": [
       "<Figure size 640x480 with 1 Axes>"
      ],
      "image/png": "[encoded data removed]"
     },
     "metadata": {},
     "output_type": "display_data"
    },
    {
     "name": "stdout",
     "output_type": "stream",
     "text": [
      "Wzór regresji liniowej: y = -423546.55 + 211.01666666666665 * x\n"
     ]
    }
   ],
   "execution_count": 328
  },
  {
   "metadata": {
    "ExecuteTime": {
     "end_time": "2024-11-18T11:49:25.547692Z",
     "start_time": "2024-11-18T11:49:25.352051Z"
    }
   },
   "cell_type": "code",
   "source": [
    "# Logarytmiczna transformacja kosztów i zysków\n",
    "# dane treningowe to pierwsze 6 lat, a dane waliacyjne to ostatnie 3 lata\n",
    "#Najpierw trenujemy model na danych treningowych, a następnie przewidujemy wartości dla danych walidacyjnych\n",
    "#Dane walidacyjne są używane do oceny jakości modelu\n",
    "#Następnie przewidujemy wartości dla całego zbioru danych, aby zobaczyć, jak model zachowuje się na całym zbiorze danych\n",
    "#Jeśli model jest dobry, to prognozy dla danych walidacyjnych i całego zbioru danych powinny być zbliżone do siebie\n",
    "#Następnie robimy przewidywania dla lat od 2019 do 2021\n",
    "\n",
    "# Logarytmiczna transformacja kosztów i zysków\n",
    "data[\"Log_Koszty\"] = np.log(data[\"Koszty w mln $\"])\n",
    "data[\"Log_Zysk\"] = np.log(data[\"Zysk w mln $\"])\n",
    "\n",
    "X_train= data[[\"Rok\"]][2:6]\n",
    "X_test = data[[\"Rok\"]][6:]\n",
    "y_train = data[\"Log_Koszty\"][2:6]\n",
    "y_test = data[\"Log_Koszty\"][6:]\n",
    "\n",
    "# Trenowanie modelu\n",
    "model5 = LinearRegression()\n",
    "model5.fit(X_train, y_train)\n",
    "\n",
    "# Prognozy dla danych walidacyjnych\n",
    "y_pred_test = model5.predict(X_test)\n",
    "\n",
    "#Ocena jakości modelu\n",
    "print(\"Współczynniki modelu R^2: \", model5.score(X_test, y_test))\n",
    "print(\"Współczynnik modelu RMSE:\", mean_squared_error(y_test, y_pred_test))\n",
    "\n",
    "# Uczenie modelu na całym zbiorze danych\n",
    "model5.fit(data[[\"Rok\"]], data[\"Log_Koszty\"])\n",
    "data[\"Prognoza_Koszty\"] = model5.predict(data[[\"Rok\"]])\n",
    "\n",
    "# Przewidywanie kosztów dla lat 2019-2021\n",
    "X_future = pd.DataFrame({\"Rok\": [2018, 2019, 2020, 2021]})\n",
    "data_future = pd.concat([data, X_future], axis=0)\n",
    "data_future[\"Prognoza_Koszty\"] = model5.predict(data_future[[\"Rok\"]])\n",
    "\n",
    "# wypisanie wartości prognozowanych kosztów\n",
    "print(\"Prognozy kosztów na lata 2019-2021:\")\n",
    "print(data_future[[\"Rok\", \"Prognoza_Koszty\"]][9:])\n",
    "\n",
    "# Wykres\n",
    "plt.scatter(X_train, y_train, color = 'red', label='Dane treningowe')\n",
    "plt.plot(X_train, model5.predict(X_train), color = 'blue', label='Regresja (Dane treningowe)')\n",
    "plt.scatter(X_test, y_test, color = 'green', label='Dane walidacyjne')\n",
    "#punkty prognozowane wraz z przedziałami ufności pionowymi 0.95\n",
    "plt.errorbar(X_test, y_pred_test, yerr=1.96 * np.std(y_pred_test), fmt='o', color = 'orange', label='Prognozy (Dane walidacyjne)')\n",
    "plt.scatter(X_test, y_pred_test, color = 'orange', label='Prognozy (Dane walidacyjne)')\n",
    "plt.plot(data[[\"Rok\"]], data[\"Prognoza_Koszty\"], color = 'cyan', label='Prognozy (Cały zbiór)')\n",
    "plt.plot(data_future[[\"Rok\"]], data_future[\"Prognoza_Koszty\"], color = 'black', label='Prognozy (2018-2021)')\n",
    "#punkty prognozowane\n",
    "plt.scatter(data_future[[\"Rok\"]][9:], data_future[\"Prognoza_Koszty\"][9:], color = 'black', label='Prognozy (2019-2021)', marker='x')\n",
    "plt.legend()\n",
    "plt.xlabel(\"Rok\")\n",
    "plt.ylabel(\"Log_Koszty\")\n",
    "plt.title(\"Regresja: Rok vs Log_Koszty oraz Przedziały Ufności\")\n",
    "plt.show()\n",
    "\n",
    "\n",
    "# zmienic zeby dane testowe trzeba wyliczyć samemu z funkcji a te uzyc całkowicie do wytrainowania modelu\n"
   ],
   "id": "cdc130b692b44fc8",
   "outputs": [
    {
     "name": "stdout",
     "output_type": "stream",
     "text": [
      "Współczynniki modelu R^2:  0.18822718558685247\n",
      "Współczynnik modelu RMSE: 0.042144501841318856\n",
      "Prognozy kosztów na lata 2019-2021:\n",
      "    Rok  Prognoza_Koszty\n",
      "0  2018        10.826766\n",
      "1  2019        11.273834\n",
      "2  2020        11.720902\n",
      "3  2021        12.167970\n"
     ]
    },
    {
     "data": {
      "text/plain": [
       "<Figure size 640x480 with 1 Axes>"
      ],
      "image/png": "[encoded data removed]"
     },
     "metadata": {},
     "output_type": "display_data"
    }
   ],
   "execution_count": 329
  },
  {
   "metadata": {
    "ExecuteTime": {
     "end_time": "2024-11-18T11:49:25.610287Z",
     "start_time": "2024-11-18T11:49:25.579709Z"
    }
   },
   "cell_type": "code",
   "source": [
    "# wykresy\n",
    "\n",
    "fig = px.scatter_matrix(data)\n",
    "fig.show()\n",
    " "
   ],
   "id": "f67a0e770f0389c8",
   "outputs": [
    {
     "data": {
      "application/vnd.plotly.v1+json": {
       "data": [
        {
         "dimensions": [
          {
           "axis": {
            "matches": true
           },
           "label": "Rok",
           "values": [
            2009,
            2010,
            2011,
            2012,
            2013,
            2014,
            2015,
            2016,
            2017
           ]
          },
          {
           "axis": {
            "matches": true
           },
           "label": "Przychód w mln $",
           "values": [
            777,
            1974,
            3711,
            5089,
            7872,
            12466,
            17928,
            27638,
            40653
           ]
          },
          {
           "axis": {
            "matches": true
           },
           "label": "Zysk w mln $",
           "values": [
            229,
            606,
            1000,
            53,
            1500,
            2940,
            3688,
            10217,
            15934
           ]
          },
          {
           "axis": {
            "matches": true
           },
           "label": "Zatrudnienie",
           "values": [
            1218,
            2127,
            3200,
            4619,
            6337,
            9199,
            12691,
            17048,
            25105
           ]
          },
          {
           "axis": {
            "matches": true
           },
           "label": "Użytkownicy_mln",
           "values": [
            360,
            608,
            845,
            1056,
            1228,
            1393,
            1591,
            1860,
            2129
           ]
          },
          {
           "axis": {
            "matches": true
           },
           "label": "Koszty w mln $",
           "values": [
            548,
            1368,
            2711,
            5036,
            6372,
            9526,
            14240,
            17421,
            24719
           ]
          },
          {
           "axis": {
            "matches": true
           },
           "label": "Prognoza_Przychód",
           "values": [
            -5749.501991843872,
            -369.72262456475073,
            4771.437496585057,
            9348.588490520115,
            13079.725793633052,
            16659.014485572792,
            20954.16091590048,
            26789.486116699205,
            32624.81131749793
           ]
          },
          {
           "axis": {
            "matches": true
           },
           "label": "Log_Koszty",
           "values": [
            6.306275286948016,
            7.221105098182496,
            7.905072849498666,
            8.524367395164237,
            8.759668671029939,
            9.161780181360806,
            9.563810184965966,
            9.76543165404016,
            10.115327457678946
           ]
          },
          {
           "axis": {
            "matches": true
           },
           "label": "Log_Zysk",
           "values": [
            5.43372200355424,
            6.406879986069314,
            6.907755278982137,
            3.970291913552122,
            7.313220387090301,
            7.986164860332727,
            8.212839584676484,
            9.231808278591423,
            9.676210469940312
           ]
          },
          {
           "axis": {
            "matches": true
           },
           "label": "Prognoza_Koszty",
           "values": [
            6.80315481047694,
            7.250222740604045,
            7.6972906707311495,
            8.144358600858368,
            8.591426530985473,
            9.038494461112577,
            9.485562391239682,
            9.932630321366787,
            10.379698251494005
           ]
          }
         ],
         "hovertemplate": "%{xaxis.title.text}=%{x}<br>%{yaxis.title.text}=%{y}<extra></extra>",
         "legendgroup": "",
         "marker": {
          "color": "#636efa",
          "symbol": "circle"
         },
         "name": "",
         "showlegend": false,
         "type": "splom"
        }
       ],
       "layout": {
        "template": {
         "data": {
          "histogram2dcontour": [
           {
            "type": "histogram2dcontour",
            "colorbar": {
             "outlinewidth": 0,
             "ticks": ""
            },
            "colorscale": [
             [
              0.0,
              "#0d0887"
             ],
             [
              0.1111111111111111,
              "#46039f"
             ],
             [
              0.2222222222222222,
              "#7201a8"
             ],
             [
              0.3333333333333333,
              "#9c179e"
             ],
             [
              0.4444444444444444,
              "#bd3786"
             ],
             [
              0.5555555555555556,
              "#d8576b"
             ],
             [
              0.6666666666666666,
              "#ed7953"
             ],
             [
              0.7777777777777778,
              "#fb9f3a"
             ],
             [
              0.8888888888888888,
              "#fdca26"
             ],
             [
              1.0,
              "#f0f921"
             ]
            ]
           }
          ],
          "choropleth": [
           {
            "type": "choropleth",
            "colorbar": {
             "outlinewidth": 0,
             "ticks": ""
            }
           }
          ],
          "histogram2d": [
           {
            "type": "histogram2d",
            "colorbar": {
             "outlinewidth": 0,
             "ticks": ""
            },
            "colorscale": [
             [
              0.0,
              "#0d0887"
             ],
             [
              0.1111111111111111,
              "#46039f"
             ],
             [
              0.2222222222222222,
              "#7201a8"
             ],
             [
              0.3333333333333333,
              "#9c179e"
             ],
             [
              0.4444444444444444,
              "#bd3786"
             ],
             [
              0.5555555555555556,
              "#d8576b"
             ],
             [
              0.6666666666666666,
              "#ed7953"
             ],
             [
              0.7777777777777778,
              "#fb9f3a"
             ],
             [
              0.8888888888888888,
              "#fdca26"
             ],
             [
              1.0,
              "#f0f921"
             ]
            ]
           }
          ],
          "heatmap": [
           {
            "type": "heatmap",
            "colorbar": {
             "outlinewidth": 0,
             "ticks": ""
            },
            "colorscale": [
             [
              0.0,
              "#0d0887"
             ],
             [
              0.1111111111111111,
              "#46039f"
             ],
             [
              0.2222222222222222,
              "#7201a8"
             ],
             [
              0.3333333333333333,
              "#9c179e"
             ],
             [
              0.4444444444444444,
              "#bd3786"
             ],
             [
              0.5555555555555556,
              "#d8576b"
             ],
             [
              0.6666666666666666,
              "#ed7953"
             ],
             [
              0.7777777777777778,
              "#fb9f3a"
             ],
             [
              0.8888888888888888,
              "#fdca26"
             ],
             [
              1.0,
              "#f0f921"
             ]
            ]
           }
          ],
          "heatmapgl": [
           {
            "type": "heatmapgl",
            "colorbar": {
             "outlinewidth": 0,
             "ticks": ""
            },
            "colorscale": [
             [
              0.0,
              "#0d0887"
             ],
             [
              0.1111111111111111,
              "#46039f"
             ],
             [
              0.2222222222222222,
              "#7201a8"
             ],
             [
              0.3333333333333333,
              "#9c179e"
             ],
             [
              0.4444444444444444,
              "#bd3786"
             ],
             [
              0.5555555555555556,
              "#d8576b"
             ],
             [
              0.6666666666666666,
              "#ed7953"
             ],
             [
              0.7777777777777778,
              "#fb9f3a"
             ],
             [
              0.8888888888888888,
              "#fdca26"
             ],
             [
              1.0,
              "#f0f921"
             ]
            ]
           }
          ],
          "contourcarpet": [
           {
            "type": "contourcarpet",
            "colorbar": {
             "outlinewidth": 0,
             "ticks": ""
            }
           }
          ],
          "contour": [
           {
            "type": "contour",
            "colorbar": {
             "outlinewidth": 0,
             "ticks": ""
            },
            "colorscale": [
             [
              0.0,
              "#0d0887"
             ],
             [
              0.1111111111111111,
              "#46039f"
             ],
             [
              0.2222222222222222,
              "#7201a8"
             ],
             [
              0.3333333333333333,
              "#9c179e"
             ],
             [
              0.4444444444444444,
              "#bd3786"
             ],
             [
              0.5555555555555556,
              "#d8576b"
             ],
             [
              0.6666666666666666,
              "#ed7953"
             ],
             [
              0.7777777777777778,
              "#fb9f3a"
             ],
             [
              0.8888888888888888,
              "#fdca26"
             ],
             [
              1.0,
              "#f0f921"
             ]
            ]
           }
          ],
          "surface": [
           {
            "type": "surface",
            "colorbar": {
             "outlinewidth": 0,
             "ticks": ""
            },
            "colorscale": [
             [
              0.0,
              "#0d0887"
             ],
             [
              0.1111111111111111,
              "#46039f"
             ],
             [
              0.2222222222222222,
              "#7201a8"
             ],
             [
              0.3333333333333333,
              "#9c179e"
             ],
             [
              0.4444444444444444,
              "#bd3786"
             ],
             [
              0.5555555555555556,
              "#d8576b"
             ],
             [
              0.6666666666666666,
              "#ed7953"
             ],
             [
              0.7777777777777778,
              "#fb9f3a"
             ],
             [
              0.8888888888888888,
              "#fdca26"
             ],
             [
              1.0,
              "#f0f921"
             ]
            ]
           }
          ],
          "mesh3d": [
           {
            "type": "mesh3d",
            "colorbar": {
             "outlinewidth": 0,
             "ticks": ""
            }
           }
          ],
          "scatter": [
           {
            "marker": {
             "line": {
              "color": "#283442"
             }
            },
            "type": "scatter"
           }
          ],
          "parcoords": [
           {
            "type": "parcoords",
            "line": {
             "colorbar": {
              "outlinewidth": 0,
              "ticks": ""
             }
            }
           }
          ],
          "scatterpolargl": [
           {
            "type": "scatterpolargl",
            "marker": {
             "colorbar": {
              "outlinewidth": 0,
              "ticks": ""
             }
            }
           }
          ],
          "bar": [
           {
            "error_x": {
             "color": "#f2f5fa"
            },
            "error_y": {
             "color": "#f2f5fa"
            },
            "marker": {
             "line": {
              "color": "rgb(17,17,17)",
              "width": 0.5
             },
             "pattern": {
              "fillmode": "overlay",
              "size": 10,
              "solidity": 0.2
             }
            },
            "type": "bar"
           }
          ],
          "scattergeo": [
           {
            "type": "scattergeo",
            "marker": {
             "colorbar": {
              "outlinewidth": 0,
              "ticks": ""
             }
            }
           }
          ],
          "scatterpolar": [
           {
            "type": "scatterpolar",
            "marker": {
             "colorbar": {
              "outlinewidth": 0,
              "ticks": ""
             }
            }
           }
          ],
          "histogram": [
           {
            "marker": {
             "pattern": {
              "fillmode": "overlay",
              "size": 10,
              "solidity": 0.2
             }
            },
            "type": "histogram"
           }
          ],
          "scattergl": [
           {
            "marker": {
             "line": {
              "color": "#283442"
             }
            },
            "type": "scattergl"
           }
          ],
          "scatter3d": [
           {
            "type": "scatter3d",
            "line": {
             "colorbar": {
              "outlinewidth": 0,
              "ticks": ""
             }
            },
            "marker": {
             "colorbar": {
              "outlinewidth": 0,
              "ticks": ""
             }
            }
           }
          ],
          "scattermapbox": [
           {
            "type": "scattermapbox",
            "marker": {
             "colorbar": {
              "outlinewidth": 0,
              "ticks": ""
             }
            }
           }
          ],
          "scatterternary": [
           {
            "type": "scatterternary",
            "marker": {
             "colorbar": {
              "outlinewidth": 0,
              "ticks": ""
             }
            }
           }
          ],
          "scattercarpet": [
           {
            "type": "scattercarpet",
            "marker": {
             "colorbar": {
              "outlinewidth": 0,
              "ticks": ""
             }
            }
           }
          ],
          "carpet": [
           {
            "aaxis": {
             "endlinecolor": "#A2B1C6",
             "gridcolor": "#506784",
             "linecolor": "#506784",
             "minorgridcolor": "#506784",
             "startlinecolor": "#A2B1C6"
            },
            "baxis": {
             "endlinecolor": "#A2B1C6",
             "gridcolor": "#506784",
             "linecolor": "#506784",
             "minorgridcolor": "#506784",
             "startlinecolor": "#A2B1C6"
            },
            "type": "carpet"
           }
          ],
          "table": [
           {
            "cells": {
             "fill": {
              "color": "#506784"
             },
             "line": {
              "color": "rgb(17,17,17)"
             }
            },
            "header": {
             "fill": {
              "color": "#2a3f5f"
             },
             "line": {
              "color": "rgb(17,17,17)"
             }
            },
            "type": "table"
           }
          ],
          "barpolar": [
           {
            "marker": {
             "line": {
              "color": "rgb(17,17,17)",
              "width": 0.5
             },
             "pattern": {
              "fillmode": "overlay",
              "size": 10,
              "solidity": 0.2
             }
            },
            "type": "barpolar"
           }
          ],
          "pie": [
           {
            "automargin": true,
            "type": "pie"
           }
          ]
         },
         "layout": {
          "autotypenumbers": "strict",
          "colorway": [
           "#636efa",
           "#EF553B",
           "#00cc96",
           "#ab63fa",
           "#FFA15A",
           "#19d3f3",
           "#FF6692",
           "#B6E880",
           "#FF97FF",
           "#FECB52"
          ],
          "font": {
           "color": "#f2f5fa"
          },
          "hovermode": "closest",
          "hoverlabel": {
           "align": "left"
          },
          "paper_bgcolor": "rgb(17,17,17)",
          "plot_bgcolor": "rgb(17,17,17)",
          "polar": {
           "bgcolor": "rgb(17,17,17)",
           "angularaxis": {
            "gridcolor": "#506784",
            "linecolor": "#506784",
            "ticks": ""
           },
           "radialaxis": {
            "gridcolor": "#506784",
            "linecolor": "#506784",
            "ticks": ""
           }
          },
          "ternary": {
           "bgcolor": "rgb(17,17,17)",
           "aaxis": {
            "gridcolor": "#506784",
            "linecolor": "#506784",
            "ticks": ""
           },
           "baxis": {
            "gridcolor": "#506784",
            "linecolor": "#506784",
            "ticks": ""
           },
           "caxis": {
            "gridcolor": "#506784",
            "linecolor": "#506784",
            "ticks": ""
           }
          },
          "coloraxis": {
           "colorbar": {
            "outlinewidth": 0,
            "ticks": ""
           }
          },
          "colorscale": {
           "sequential": [
            [
             0.0,
             "#0d0887"
            ],
            [
             0.1111111111111111,
             "#46039f"
            ],
            [
             0.2222222222222222,
             "#7201a8"
            ],
            [
             0.3333333333333333,
             "#9c179e"
            ],
            [
             0.4444444444444444,
             "#bd3786"
            ],
            [
             0.5555555555555556,
             "#d8576b"
            ],
            [
             0.6666666666666666,
             "#ed7953"
            ],
            [
             0.7777777777777778,
             "#fb9f3a"
            ],
            [
             0.8888888888888888,
             "#fdca26"
            ],
            [
             1.0,
             "#f0f921"
            ]
           ],
           "sequentialminus": [
            [
             0.0,
             "#0d0887"
            ],
            [
             0.1111111111111111,
             "#46039f"
            ],
            [
             0.2222222222222222,
             "#7201a8"
            ],
            [
             0.3333333333333333,
             "#9c179e"
            ],
            [
             0.4444444444444444,
             "#bd3786"
            ],
            [
             0.5555555555555556,
             "#d8576b"
            ],
            [
             0.6666666666666666,
             "#ed7953"
            ],
            [
             0.7777777777777778,
             "#fb9f3a"
            ],
            [
             0.8888888888888888,
             "#fdca26"
            ],
            [
             1.0,
             "#f0f921"
            ]
           ],
           "diverging": [
            [
             0,
             "#8e0152"
            ],
            [
             0.1,
             "#c51b7d"
            ],
            [
             0.2,
             "#de77ae"
            ],
            [
             0.3,
             "#f1b6da"
            ],
            [
             0.4,
             "#fde0ef"
            ],
            [
             0.5,
             "#f7f7f7"
            ],
            [
             0.6,
             "#e6f5d0"
            ],
            [
             0.7,
             "#b8e186"
            ],
            [
             0.8,
             "#7fbc41"
            ],
            [
             0.9,
             "#4d9221"
            ],
            [
             1,
             "#276419"
            ]
           ]
          },
          "xaxis": {
           "gridcolor": "#283442",
           "linecolor": "#506784",
           "ticks": "",
           "title": {
            "standoff": 15
           },
           "zerolinecolor": "#283442",
           "automargin": true,
           "zerolinewidth": 2
          },
          "yaxis": {
           "gridcolor": "#283442",
           "linecolor": "#506784",
           "ticks": "",
           "title": {
            "standoff": 15
           },
           "zerolinecolor": "#283442",
           "automargin": true,
           "zerolinewidth": 2
          },
          "scene": {
           "xaxis": {
            "backgroundcolor": "rgb(17,17,17)",
            "gridcolor": "#506784",
            "linecolor": "#506784",
            "showbackground": true,
            "ticks": "",
            "zerolinecolor": "#C8D4E3",
            "gridwidth": 2
           },
           "yaxis": {
            "backgroundcolor": "rgb(17,17,17)",
            "gridcolor": "#506784",
            "linecolor": "#506784",
            "showbackground": true,
            "ticks": "",
            "zerolinecolor": "#C8D4E3",
            "gridwidth": 2
           },
           "zaxis": {
            "backgroundcolor": "rgb(17,17,17)",
            "gridcolor": "#506784",
            "linecolor": "#506784",
            "showbackground": true,
            "ticks": "",
            "zerolinecolor": "#C8D4E3",
            "gridwidth": 2
           }
          },
          "shapedefaults": {
           "line": {
            "color": "#f2f5fa"
           }
          },
          "annotationdefaults": {
           "arrowcolor": "#f2f5fa",
           "arrowhead": 0,
           "arrowwidth": 1
          },
          "geo": {
           "bgcolor": "rgb(17,17,17)",
           "landcolor": "rgb(17,17,17)",
           "subunitcolor": "#506784",
           "showland": true,
           "showlakes": true,
           "lakecolor": "rgb(17,17,17)"
          },
          "title": {
           "x": 0.05
          },
          "updatemenudefaults": {
           "bgcolor": "#506784",
           "borderwidth": 0
          },
          "sliderdefaults": {
           "bgcolor": "#C8D4E3",
           "borderwidth": 1,
           "bordercolor": "rgb(17,17,17)",
           "tickwidth": 0
          },
          "mapbox": {
           "style": "dark"
          }
         }
        },
        "legend": {
         "tracegroupgap": 0
        },
        "margin": {
         "t": 60
        },
        "dragmode": "select"
       },
       "config": {
        "plotlyServerURL": "https://plot.ly"
       }
      },
      "text/html": [
       "<div>                            <div id=\"bcbc5d1b-0336-4e92-a094-ae1690e1e795\" class=\"plotly-graph-div\" style=\"height:525px; width:100%;\"></div>            <script type=\"text/javascript\">                require([\"plotly\"], function(Plotly) {                    window.PLOTLYENV=window.PLOTLYENV || {};                                    if (document.getElementById(\"bcbc5d1b-0336-4e92-a094-ae1690e1e795\")) {                    Plotly.newPlot(                        \"bcbc5d1b-0336-4e92-a094-ae1690e1e795\",                        [{\"dimensions\":[{\"axis\":{\"matches\":true},\"label\":\"Rok\",\"values\":[2009,2010,2011,2012,2013,2014,2015,2016,2017]},{\"axis\":{\"matches\":true},\"label\":\"Przych\\u00f3d w mln $\",\"values\":[777,1974,3711,5089,7872,12466,17928,27638,40653]},{\"axis\":{\"matches\":true},\"label\":\"Zysk w mln $\",\"values\":[229,606,1000,53,1500,2940,3688,10217,15934]},{\"axis\":{\"matches\":true},\"label\":\"Zatrudnienie\",\"values\":[1218,2127,3200,4619,6337,9199,12691,17048,25105]},{\"axis\":{\"matches\":true},\"label\":\"U\\u017cytkownicy_mln\",\"values\":[360,608,845,1056,1228,1393,1591,1860,2129]},{\"axis\":{\"matches\":true},\"label\":\"Koszty w mln $\",\"values\":[548,1368,2711,5036,6372,9526,14240,17421,24719]},{\"axis\":{\"matches\":true},\"label\":\"Prognoza_Przych\\u00f3d\",\"values\":[-5749.501991843872,-369.72262456475073,4771.437496585057,9348.588490520115,13079.725793633052,16659.014485572792,20954.16091590048,26789.486116699205,32624.81131749793]},{\"axis\":{\"matches\":true},\"label\":\"Log_Koszty\",\"values\":[6.306275286948016,7.221105098182496,7.905072849498666,8.524367395164237,8.759668671029939,9.161780181360806,9.563810184965966,9.76543165404016,10.115327457678946]},{\"axis\":{\"matches\":true},\"label\":\"Log_Zysk\",\"values\":[5.43372200355424,6.406879986069314,6.907755278982137,3.970291913552122,7.313220387090301,7.986164860332727,8.212839584676484,9.231808278591423,9.676210469940312]},{\"axis\":{\"matches\":true},\"label\":\"Prognoza_Koszty\",\"values\":[6.80315481047694,7.250222740604045,7.6972906707311495,8.144358600858368,8.591426530985473,9.038494461112577,9.485562391239682,9.932630321366787,10.379698251494005]}],\"hovertemplate\":\"%{xaxis.title.text}=%{x}\\u003cbr\\u003e%{yaxis.title.text}=%{y}\\u003cextra\\u003e\\u003c\\u002fextra\\u003e\",\"legendgroup\":\"\",\"marker\":{\"color\":\"#636efa\",\"symbol\":\"circle\"},\"name\":\"\",\"showlegend\":false,\"type\":\"splom\"}],                        {\"template\":{\"data\":{\"histogram2dcontour\":[{\"type\":\"histogram2dcontour\",\"colorbar\":{\"outlinewidth\":0,\"ticks\":\"\"},\"colorscale\":[[0.0,\"#0d0887\"],[0.1111111111111111,\"#46039f\"],[0.2222222222222222,\"#7201a8\"],[0.3333333333333333,\"#9c179e\"],[0.4444444444444444,\"#bd3786\"],[0.5555555555555556,\"#d8576b\"],[0.6666666666666666,\"#ed7953\"],[0.7777777777777778,\"#fb9f3a\"],[0.8888888888888888,\"#fdca26\"],[1.0,\"#f0f921\"]]}],\"choropleth\":[{\"type\":\"choropleth\",\"colorbar\":{\"outlinewidth\":0,\"ticks\":\"\"}}],\"histogram2d\":[{\"type\":\"histogram2d\",\"colorbar\":{\"outlinewidth\":0,\"ticks\":\"\"},\"colorscale\":[[0.0,\"#0d0887\"],[0.1111111111111111,\"#46039f\"],[0.2222222222222222,\"#7201a8\"],[0.3333333333333333,\"#9c179e\"],[0.4444444444444444,\"#bd3786\"],[0.5555555555555556,\"#d8576b\"],[0.6666666666666666,\"#ed7953\"],[0.7777777777777778,\"#fb9f3a\"],[0.8888888888888888,\"#fdca26\"],[1.0,\"#f0f921\"]]}],\"heatmap\":[{\"type\":\"heatmap\",\"colorbar\":{\"outlinewidth\":0,\"ticks\":\"\"},\"colorscale\":[[0.0,\"#0d0887\"],[0.1111111111111111,\"#46039f\"],[0.2222222222222222,\"#7201a8\"],[0.3333333333333333,\"#9c179e\"],[0.4444444444444444,\"#bd3786\"],[0.5555555555555556,\"#d8576b\"],[0.6666666666666666,\"#ed7953\"],[0.7777777777777778,\"#fb9f3a\"],[0.8888888888888888,\"#fdca26\"],[1.0,\"#f0f921\"]]}],\"heatmapgl\":[{\"type\":\"heatmapgl\",\"colorbar\":{\"outlinewidth\":0,\"ticks\":\"\"},\"colorscale\":[[0.0,\"#0d0887\"],[0.1111111111111111,\"#46039f\"],[0.2222222222222222,\"#7201a8\"],[0.3333333333333333,\"#9c179e\"],[0.4444444444444444,\"#bd3786\"],[0.5555555555555556,\"#d8576b\"],[0.6666666666666666,\"#ed7953\"],[0.7777777777777778,\"#fb9f3a\"],[0.8888888888888888,\"#fdca26\"],[1.0,\"#f0f921\"]]}],\"contourcarpet\":[{\"type\":\"contourcarpet\",\"colorbar\":{\"outlinewidth\":0,\"ticks\":\"\"}}],\"contour\":[{\"type\":\"contour\",\"colorbar\":{\"outlinewidth\":0,\"ticks\":\"\"},\"colorscale\":[[0.0,\"#0d0887\"],[0.1111111111111111,\"#46039f\"],[0.2222222222222222,\"#7201a8\"],[0.3333333333333333,\"#9c179e\"],[0.4444444444444444,\"#bd3786\"],[0.5555555555555556,\"#d8576b\"],[0.6666666666666666,\"#ed7953\"],[0.7777777777777778,\"#fb9f3a\"],[0.8888888888888888,\"#fdca26\"],[1.0,\"#f0f921\"]]}],\"surface\":[{\"type\":\"surface\",\"colorbar\":{\"outlinewidth\":0,\"ticks\":\"\"},\"colorscale\":[[0.0,\"#0d0887\"],[0.1111111111111111,\"#46039f\"],[0.2222222222222222,\"#7201a8\"],[0.3333333333333333,\"#9c179e\"],[0.4444444444444444,\"#bd3786\"],[0.5555555555555556,\"#d8576b\"],[0.6666666666666666,\"#ed7953\"],[0.7777777777777778,\"#fb9f3a\"],[0.8888888888888888,\"#fdca26\"],[1.0,\"#f0f921\"]]}],\"mesh3d\":[{\"type\":\"mesh3d\",\"colorbar\":{\"outlinewidth\":0,\"ticks\":\"\"}}],\"scatter\":[{\"marker\":{\"line\":{\"color\":\"#283442\"}},\"type\":\"scatter\"}],\"parcoords\":[{\"type\":\"parcoords\",\"line\":{\"colorbar\":{\"outlinewidth\":0,\"ticks\":\"\"}}}],\"scatterpolargl\":[{\"type\":\"scatterpolargl\",\"marker\":{\"colorbar\":{\"outlinewidth\":0,\"ticks\":\"\"}}}],\"bar\":[{\"error_x\":{\"color\":\"#f2f5fa\"},\"error_y\":{\"color\":\"#f2f5fa\"},\"marker\":{\"line\":{\"color\":\"rgb(17,17,17)\",\"width\":0.5},\"pattern\":{\"fillmode\":\"overlay\",\"size\":10,\"solidity\":0.2}},\"type\":\"bar\"}],\"scattergeo\":[{\"type\":\"scattergeo\",\"marker\":{\"colorbar\":{\"outlinewidth\":0,\"ticks\":\"\"}}}],\"scatterpolar\":[{\"type\":\"scatterpolar\",\"marker\":{\"colorbar\":{\"outlinewidth\":0,\"ticks\":\"\"}}}],\"histogram\":[{\"marker\":{\"pattern\":{\"fillmode\":\"overlay\",\"size\":10,\"solidity\":0.2}},\"type\":\"histogram\"}],\"scattergl\":[{\"marker\":{\"line\":{\"color\":\"#283442\"}},\"type\":\"scattergl\"}],\"scatter3d\":[{\"type\":\"scatter3d\",\"line\":{\"colorbar\":{\"outlinewidth\":0,\"ticks\":\"\"}},\"marker\":{\"colorbar\":{\"outlinewidth\":0,\"ticks\":\"\"}}}],\"scattermapbox\":[{\"type\":\"scattermapbox\",\"marker\":{\"colorbar\":{\"outlinewidth\":0,\"ticks\":\"\"}}}],\"scatterternary\":[{\"type\":\"scatterternary\",\"marker\":{\"colorbar\":{\"outlinewidth\":0,\"ticks\":\"\"}}}],\"scattercarpet\":[{\"type\":\"scattercarpet\",\"marker\":{\"colorbar\":{\"outlinewidth\":0,\"ticks\":\"\"}}}],\"carpet\":[{\"aaxis\":{\"endlinecolor\":\"#A2B1C6\",\"gridcolor\":\"#506784\",\"linecolor\":\"#506784\",\"minorgridcolor\":\"#506784\",\"startlinecolor\":\"#A2B1C6\"},\"baxis\":{\"endlinecolor\":\"#A2B1C6\",\"gridcolor\":\"#506784\",\"linecolor\":\"#506784\",\"minorgridcolor\":\"#506784\",\"startlinecolor\":\"#A2B1C6\"},\"type\":\"carpet\"}],\"table\":[{\"cells\":{\"fill\":{\"color\":\"#506784\"},\"line\":{\"color\":\"rgb(17,17,17)\"}},\"header\":{\"fill\":{\"color\":\"#2a3f5f\"},\"line\":{\"color\":\"rgb(17,17,17)\"}},\"type\":\"table\"}],\"barpolar\":[{\"marker\":{\"line\":{\"color\":\"rgb(17,17,17)\",\"width\":0.5},\"pattern\":{\"fillmode\":\"overlay\",\"size\":10,\"solidity\":0.2}},\"type\":\"barpolar\"}],\"pie\":[{\"automargin\":true,\"type\":\"pie\"}]},\"layout\":{\"autotypenumbers\":\"strict\",\"colorway\":[\"#636efa\",\"#EF553B\",\"#00cc96\",\"#ab63fa\",\"#FFA15A\",\"#19d3f3\",\"#FF6692\",\"#B6E880\",\"#FF97FF\",\"#FECB52\"],\"font\":{\"color\":\"#f2f5fa\"},\"hovermode\":\"closest\",\"hoverlabel\":{\"align\":\"left\"},\"paper_bgcolor\":\"rgb(17,17,17)\",\"plot_bgcolor\":\"rgb(17,17,17)\",\"polar\":{\"bgcolor\":\"rgb(17,17,17)\",\"angularaxis\":{\"gridcolor\":\"#506784\",\"linecolor\":\"#506784\",\"ticks\":\"\"},\"radialaxis\":{\"gridcolor\":\"#506784\",\"linecolor\":\"#506784\",\"ticks\":\"\"}},\"ternary\":{\"bgcolor\":\"rgb(17,17,17)\",\"aaxis\":{\"gridcolor\":\"#506784\",\"linecolor\":\"#506784\",\"ticks\":\"\"},\"baxis\":{\"gridcolor\":\"#506784\",\"linecolor\":\"#506784\",\"ticks\":\"\"},\"caxis\":{\"gridcolor\":\"#506784\",\"linecolor\":\"#506784\",\"ticks\":\"\"}},\"coloraxis\":{\"colorbar\":{\"outlinewidth\":0,\"ticks\":\"\"}},\"colorscale\":{\"sequential\":[[0.0,\"#0d0887\"],[0.1111111111111111,\"#46039f\"],[0.2222222222222222,\"#7201a8\"],[0.3333333333333333,\"#9c179e\"],[0.4444444444444444,\"#bd3786\"],[0.5555555555555556,\"#d8576b\"],[0.6666666666666666,\"#ed7953\"],[0.7777777777777778,\"#fb9f3a\"],[0.8888888888888888,\"#fdca26\"],[1.0,\"#f0f921\"]],\"sequentialminus\":[[0.0,\"#0d0887\"],[0.1111111111111111,\"#46039f\"],[0.2222222222222222,\"#7201a8\"],[0.3333333333333333,\"#9c179e\"],[0.4444444444444444,\"#bd3786\"],[0.5555555555555556,\"#d8576b\"],[0.6666666666666666,\"#ed7953\"],[0.7777777777777778,\"#fb9f3a\"],[0.8888888888888888,\"#fdca26\"],[1.0,\"#f0f921\"]],\"diverging\":[[0,\"#8e0152\"],[0.1,\"#c51b7d\"],[0.2,\"#de77ae\"],[0.3,\"#f1b6da\"],[0.4,\"#fde0ef\"],[0.5,\"#f7f7f7\"],[0.6,\"#e6f5d0\"],[0.7,\"#b8e186\"],[0.8,\"#7fbc41\"],[0.9,\"#4d9221\"],[1,\"#276419\"]]},\"xaxis\":{\"gridcolor\":\"#283442\",\"linecolor\":\"#506784\",\"ticks\":\"\",\"title\":{\"standoff\":15},\"zerolinecolor\":\"#283442\",\"automargin\":true,\"zerolinewidth\":2},\"yaxis\":{\"gridcolor\":\"#283442\",\"linecolor\":\"#506784\",\"ticks\":\"\",\"title\":{\"standoff\":15},\"zerolinecolor\":\"#283442\",\"automargin\":true,\"zerolinewidth\":2},\"scene\":{\"xaxis\":{\"backgroundcolor\":\"rgb(17,17,17)\",\"gridcolor\":\"#506784\",\"linecolor\":\"#506784\",\"showbackground\":true,\"ticks\":\"\",\"zerolinecolor\":\"#C8D4E3\",\"gridwidth\":2},\"yaxis\":{\"backgroundcolor\":\"rgb(17,17,17)\",\"gridcolor\":\"#506784\",\"linecolor\":\"#506784\",\"showbackground\":true,\"ticks\":\"\",\"zerolinecolor\":\"#C8D4E3\",\"gridwidth\":2},\"zaxis\":{\"backgroundcolor\":\"rgb(17,17,17)\",\"gridcolor\":\"#506784\",\"linecolor\":\"#506784\",\"showbackground\":true,\"ticks\":\"\",\"zerolinecolor\":\"#C8D4E3\",\"gridwidth\":2}},\"shapedefaults\":{\"line\":{\"color\":\"#f2f5fa\"}},\"annotationdefaults\":{\"arrowcolor\":\"#f2f5fa\",\"arrowhead\":0,\"arrowwidth\":1},\"geo\":{\"bgcolor\":\"rgb(17,17,17)\",\"landcolor\":\"rgb(17,17,17)\",\"subunitcolor\":\"#506784\",\"showland\":true,\"showlakes\":true,\"lakecolor\":\"rgb(17,17,17)\"},\"title\":{\"x\":0.05},\"updatemenudefaults\":{\"bgcolor\":\"#506784\",\"borderwidth\":0},\"sliderdefaults\":{\"bgcolor\":\"#C8D4E3\",\"borderwidth\":1,\"bordercolor\":\"rgb(17,17,17)\",\"tickwidth\":0},\"mapbox\":{\"style\":\"dark\"}}},\"legend\":{\"tracegroupgap\":0},\"margin\":{\"t\":60},\"dragmode\":\"select\"},                        {\"responsive\": true}                    ).then(function(){\n",
       "                            \n",
       "var gd = document.getElementById('bcbc5d1b-0336-4e92-a094-ae1690e1e795');\n",
       "var x = new MutationObserver(function (mutations, observer) {{\n",
       "        var display = window.getComputedStyle(gd).display;\n",
       "        if (!display || display === 'none') {{\n",
       "            console.log([gd, 'removed!']);\n",
       "            Plotly.purge(gd);\n",
       "            observer.disconnect();\n",
       "        }}\n",
       "}});\n",
       "\n",
       "// Listen for the removal of the full notebook cells\n",
       "var notebookContainer = gd.closest('#notebook-container');\n",
       "if (notebookContainer) {{\n",
       "    x.observe(notebookContainer, {childList: true});\n",
       "}}\n",
       "\n",
       "// Listen for the clearing of the current output cell\n",
       "var outputEl = gd.closest('.output');\n",
       "if (outputEl) {{\n",
       "    x.observe(outputEl, {childList: true});\n",
       "}}\n",
       "\n",
       "                        })                };                });            </script>        </div>"
      ]
     },
     "metadata": {},
     "output_type": "display_data"
    }
   ],
   "execution_count": 330
  },
  {
   "metadata": {},
   "cell_type": "markdown",
   "source": "",
   "id": "1ace84d20d0596f"
  },
  {
   "metadata": {},
   "cell_type": "markdown",
   "source": "",
   "id": "51f31bb20fbc2461"
  },
  {
   "metadata": {},
   "cell_type": "markdown",
   "source": "",
   "id": "597ae08b9373288f"
  }
 ],
 "metadata": {
  "kernelspec": {
   "display_name": "Python 3",
   "language": "python",
   "name": "python3"
  },
  "language_info": {
   "codemirror_mode": {
    "name": "ipython",
    "version": 2
   },
   "file_extension": ".py",
   "mimetype": "text/x-python",
   "name": "python",
   "nbconvert_exporter": "python",
   "pygments_lexer": "ipython2",
   "version": "2.7.6"
  }
 },
 "nbformat": 4,
 "nbformat_minor": 5
}
