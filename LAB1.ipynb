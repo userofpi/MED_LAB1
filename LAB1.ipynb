{
 "cells": [
  {
   "metadata": {},
   "cell_type": "markdown",
   "source": [
    "# Projekt LAB 1 Dane Facebook \n",
    "Maciej Klimiuk , Hanna Mika\n",
    "\n"
   ],
   "id": "1a27673bf5161860"
  },
  {
   "metadata": {
    "ExecuteTime": {
     "end_time": "2024-11-26T22:04:22.876237Z",
     "start_time": "2024-11-26T22:04:22.871924Z"
    }
   },
   "cell_type": "code",
   "source": [
    "import pandas as pd\n",
    "import numpy as np\n",
    "import matplotlib.pyplot as plt\n",
    "import plotly.express as px\n",
    "from sklearn.linear_model import LinearRegression\n",
    "from sklearn.metrics import mean_squared_error\n",
    "from sklearn.metrics._regression import root_mean_squared_error\n",
    "from sklearn.preprocessing import PolynomialFeatures"
   ],
   "id": "f074ab9b335f365d",
   "outputs": [],
   "execution_count": 476
  },
  {
   "metadata": {
    "ExecuteTime": {
     "end_time": "2024-11-26T22:04:22.933403Z",
     "start_time": "2024-11-26T22:04:22.921902Z"
    }
   },
   "cell_type": "code",
   "source": [
    "# Wczytaj dane\n",
    "data = pd.read_csv(\"data.csv\", sep=\";\")\n",
    "# nowa kolumna o nazwie koszty = przychód - zysk\n",
    "data[\"Koszty w mln $\"] = data[\"Przychód w mln $\"] - data[\"Zysk w mln $\"]\n",
    "print(data)\n",
    "\n",
    "user_count_q = {\n",
    "    'Q':\n",
    "        ['Q3 08', 'Q1 09', 'Q2 09', 'Q3 09', 'Q4 09', 'Q1 10',\n",
    "         'Q2 10', 'Q3 10', 'Q4 10', 'Q1 11', 'Q2 11', 'Q3 11',\n",
    "         'Q4 11', 'Q1 12', 'Q2 12', 'Q3 12', 'Q4 12', 'Q1 13',\n",
    "         'Q2 13', 'Q3 13', 'Q4 13', 'Q1 14', 'Q2 14', 'Q3 14',\n",
    "         'Q4 14', 'Q1 15', 'Q2 15', 'Q3 15', 'Q4 15', 'Q1 16',\n",
    "         'Q2 16', 'Q3 16', 'Q4 16', 'Q1 17', 'Q2 17', 'Q3 17', 'Q4 17'],\n",
    "    'User count':\n",
    "        [100, 197, 242, 305, 360, 431, 482, 550, 608, 680, 739, 800,\n",
    "         845, 901, 955, 1007, 1056, 1110, 1155, 1189, 1228, 1276, 1317,\n",
    "         1350, 1393, 1441, 1490, 1545, 1591, 1654, 1712, 1788, 1860, 1936,\n",
    "         2006, 2072, 2129]\n",
    "}\n",
    "user_count_q_transformed = {\n",
    "    'Q': list(range(2, 39)),\n",
    "    'User count': user_count_q['User count']\n",
    "}\n",
    "# zmien q[0] na 1\n",
    "user_count_q_transformed['Q'][0] = 1\n",
    "print(user_count_q_transformed)\n",
    "# dlugosc danych\n",
    "print(len(user_count_q_transformed['Q']))\n",
    "\n",
    "# przekształcenie słownika na DataFrame\n",
    "data_user_count_q = pd.DataFrame(user_count_q_transformed)\n",
    "\n"
   ],
   "id": "1ab28ed6f1f619d5",
   "outputs": [
    {
     "name": "stdout",
     "output_type": "stream",
     "text": [
      "     Rok  Przychód w mln $  Zysk w mln $  Zatrudnienie  Użytkownicy_mln  \\\n",
      "0   2007               153          -138           450                0   \n",
      "1   2008               272           -56           850                0   \n",
      "2   2009               777           229          1218              360   \n",
      "3   2010              1974           606          2127              608   \n",
      "4   2011              3711          1000          3200              845   \n",
      "5   2012              5089            53          4619             1056   \n",
      "6   2013              7872          1500          6337             1228   \n",
      "7   2014             12466          2940          9199             1393   \n",
      "8   2015             17928          3688         12691             1591   \n",
      "9   2016             27638         10217         17048             1860   \n",
      "10  2017             40653         15934         25105             2129   \n",
      "\n",
      "    Koszty w mln $  \n",
      "0              291  \n",
      "1              328  \n",
      "2              548  \n",
      "3             1368  \n",
      "4             2711  \n",
      "5             5036  \n",
      "6             6372  \n",
      "7             9526  \n",
      "8            14240  \n",
      "9            17421  \n",
      "10           24719  \n",
      "{'Q': [1, 3, 4, 5, 6, 7, 8, 9, 10, 11, 12, 13, 14, 15, 16, 17, 18, 19, 20, 21, 22, 23, 24, 25, 26, 27, 28, 29, 30, 31, 32, 33, 34, 35, 36, 37, 38], 'User count': [100, 197, 242, 305, 360, 431, 482, 550, 608, 680, 739, 800, 845, 901, 955, 1007, 1056, 1110, 1155, 1189, 1228, 1276, 1317, 1350, 1393, 1441, 1490, 1545, 1591, 1654, 1712, 1788, 1860, 1936, 2006, 2072, 2129]}\n",
      "37\n"
     ]
    }
   ],
   "execution_count": 477
  },
  {
   "metadata": {
    "ExecuteTime": {
     "end_time": "2024-11-26T22:04:22.950951Z",
     "start_time": "2024-11-26T22:04:22.942227Z"
    }
   },
   "cell_type": "code",
   "source": [
    "#(2018-2022) - przychód, zysk, koszty, zatrudnienie, liczba użytkowników\n",
    "Liczba_urzytkownikow_od_q = {\n",
    "    'Q':\n",
    "        ['Q1 18', 'Q2 18', 'Q3 18', 'Q4 18',\n",
    "         'Q1 19', 'Q2 19', 'Q3 19', 'Q4 19',\n",
    "         'Q1 20', 'Q2 20', 'Q3 20', 'Q4 20',\n",
    "         'Q1 21', 'Q2 21', 'Q3 21', 'Q4 21',\n",
    "         'Q1 22', 'Q2 22', 'Q3 22', 'Q4 22',\n",
    "         'Q1 23', 'Q2 23', 'Q3 23', 'Q4 23',],\n",
    "    'Użytkownicy_mln':\n",
    "        [2196, 2234, 2271, 2320, 2375, 2414, 2449, 2498, 2603, 2701, 2740, 2797,\n",
    "         2853, 2895, 2910, 2912, 2936, 2934, 2958, 2963, 2989, 3030, 3049, 3065]\n",
    "}\n",
    "\n",
    "fb_future = {\n",
    "    'Rok': [2018, 2019, 2020, 2021, 2022, 2023],\n",
    "    'Przychod': [55838, 70697, 85965, 117929, 116609, 134902],\n",
    "    'Profit': [22112, 18485, 29146, 39370, 23200, 39098],\n",
    "    'Koszty': [33726, 52212, 56819, 78559, 93409, 95804],\n",
    "    'Zatrudnienie': [35587, 44942, 58604, 71970, 87314, 67317],\n",
    "    'ilosc_uzytkownikow': [2320, 2498, 2797, 2912, 2963, 3065]\n",
    "}\n",
    "\n",
    "Liczba_urzytkownikow_od_q_ponumerowana = {\n",
    "    'Q': list(range(39, 63)),\n",
    "    'User count': Liczba_urzytkownikow_od_q['Użytkownicy_mln']\n",
    "}\n",
    "print(Liczba_urzytkownikow_od_q_ponumerowana)\n",
    "\n",
    "# przekształcenie słownika na DataFrame\n",
    "data_future1 = pd.DataFrame(Liczba_urzytkownikow_od_q_ponumerowana)\n",
    "data_future = pd.DataFrame(fb_future)\n",
    "print(data_future)\n"
   ],
   "id": "8dc18d57159336db",
   "outputs": [
    {
     "name": "stdout",
     "output_type": "stream",
     "text": [
      "{'Q': [39, 40, 41, 42, 43, 44, 45, 46, 47, 48, 49, 50, 51, 52, 53, 54, 55, 56, 57, 58, 59, 60, 61, 62], 'User count': [2196, 2234, 2271, 2320, 2375, 2414, 2449, 2498, 2603, 2701, 2740, 2797, 2853, 2895, 2910, 2912, 2936, 2934, 2958, 2963, 2989, 3030, 3049, 3065]}\n",
      "    Rok  Przychod  Profit  Koszty  Zatrudnienie  ilosc_uzytkownikow\n",
      "0  2018     55838   22112   33726         35587                2320\n",
      "1  2019     70697   18485   52212         44942                2498\n",
      "2  2020     85965   29146   56819         58604                2797\n",
      "3  2021    117929   39370   78559         71970                2912\n",
      "4  2022    116609   23200   93409         87314                2963\n",
      "5  2023    134902   39098   95804         67317                3065\n"
     ]
    }
   ],
   "execution_count": 478
  },
  {
   "metadata": {
    "ExecuteTime": {
     "end_time": "2024-11-26T22:04:23.004192Z",
     "start_time": "2024-11-26T22:04:22.985708Z"
    }
   },
   "cell_type": "code",
   "source": [
    "# wszystkie korelacje\n",
    "print(data.corr())\n",
    "\n",
    "# wysietlenie informacji o danych statycztycznych\n",
    "print(data.describe())"
   ],
   "id": "a95e8d7b5ec428bd",
   "outputs": [
    {
     "name": "stdout",
     "output_type": "stream",
     "text": [
      "                       Rok  Przychód w mln $  Zysk w mln $  Zatrudnienie  \\\n",
      "Rok               1.000000          0.892709      0.800024      0.917137   \n",
      "Przychód w mln $  0.892709          1.000000      0.977588      0.997597   \n",
      "Zysk w mln $      0.800024          0.977588      1.000000      0.962063   \n",
      "Zatrudnienie      0.917137          0.997597      0.962063      1.000000   \n",
      "Użytkownicy_mln   0.996088          0.893330      0.805706      0.916392   \n",
      "Koszty w mln $    0.930780          0.991064      0.940772      0.997032   \n",
      "\n",
      "                  Użytkownicy_mln  Koszty w mln $  \n",
      "Rok                      0.996088        0.930780  \n",
      "Przychód w mln $         0.893330        0.991064  \n",
      "Zysk w mln $             0.805706        0.940772  \n",
      "Zatrudnienie             0.916392        0.997032  \n",
      "Użytkownicy_mln          1.000000        0.928180  \n",
      "Koszty w mln $           0.928180        1.000000  \n",
      "               Rok  Przychód w mln $  Zysk w mln $  Zatrudnienie  \\\n",
      "count    11.000000         11.000000     11.000000     11.000000   \n",
      "mean   2012.000000      10775.727273   3270.272727   7531.272727   \n",
      "std       3.316625      13123.628066   5163.114701   7882.404685   \n",
      "min    2007.000000        153.000000   -138.000000    450.000000   \n",
      "25%    2009.500000       1375.500000    141.000000   1672.500000   \n",
      "50%    2012.000000       5089.000000   1000.000000   4619.000000   \n",
      "75%    2014.500000      15197.000000   3314.000000  10945.000000   \n",
      "max    2017.000000      40653.000000  15934.000000  25105.000000   \n",
      "\n",
      "       Użytkownicy_mln  Koszty w mln $  \n",
      "count        11.000000       11.000000  \n",
      "mean       1006.363636     7505.454545  \n",
      "std         718.326844     8149.045004  \n",
      "min           0.000000      291.000000  \n",
      "25%         484.000000      958.000000  \n",
      "50%        1056.000000     5036.000000  \n",
      "75%        1492.000000    11883.000000  \n",
      "max        2129.000000    24719.000000  \n"
     ]
    }
   ],
   "execution_count": 479
  },
  {
   "metadata": {
    "ExecuteTime": {
     "end_time": "2024-11-26T22:04:23.071512Z",
     "start_time": "2024-11-26T22:04:23.035841Z"
    }
   },
   "cell_type": "code",
   "source": [
    "# wykresy\n",
    "\n",
    "fig = px.scatter_matrix(data)\n",
    "fig.show()\n"
   ],
   "id": "f67a0e770f0389c8",
   "outputs": [
    {
     "data": {
      "application/vnd.plotly.v1+json": {
       "data": [
        {
         "dimensions": [
          {
           "axis": {
            "matches": true
           },
           "label": "Rok",
           "values": [
            2007,
            2008,
            2009,
            2010,
            2011,
            2012,
            2013,
            2014,
            2015,
            2016,
            2017
           ]
          },
          {
           "axis": {
            "matches": true
           },
           "label": "Przychód w mln $",
           "values": [
            153,
            272,
            777,
            1974,
            3711,
            5089,
            7872,
            12466,
            17928,
            27638,
            40653
           ]
          },
          {
           "axis": {
            "matches": true
           },
           "label": "Zysk w mln $",
           "values": [
            -138,
            -56,
            229,
            606,
            1000,
            53,
            1500,
            2940,
            3688,
            10217,
            15934
           ]
          },
          {
           "axis": {
            "matches": true
           },
           "label": "Zatrudnienie",
           "values": [
            450,
            850,
            1218,
            2127,
            3200,
            4619,
            6337,
            9199,
            12691,
            17048,
            25105
           ]
          },
          {
           "axis": {
            "matches": true
           },
           "label": "Użytkownicy_mln",
           "values": [
            0,
            0,
            360,
            608,
            845,
            1056,
            1228,
            1393,
            1591,
            1860,
            2129
           ]
          },
          {
           "axis": {
            "matches": true
           },
           "label": "Koszty w mln $",
           "values": [
            291,
            328,
            548,
            1368,
            2711,
            5036,
            6372,
            9526,
            14240,
            17421,
            24719
           ]
          }
         ],
         "hovertemplate": "%{xaxis.title.text}=%{x}<br>%{yaxis.title.text}=%{y}<extra></extra>",
         "legendgroup": "",
         "marker": {
          "color": "#636efa",
          "symbol": "circle"
         },
         "name": "",
         "showlegend": false,
         "type": "splom"
        }
       ],
       "layout": {
        "template": {
         "data": {
          "histogram2dcontour": [
           {
            "type": "histogram2dcontour",
            "colorbar": {
             "outlinewidth": 0,
             "ticks": ""
            },
            "colorscale": [
             [
              0.0,
              "#0d0887"
             ],
             [
              0.1111111111111111,
              "#46039f"
             ],
             [
              0.2222222222222222,
              "#7201a8"
             ],
             [
              0.3333333333333333,
              "#9c179e"
             ],
             [
              0.4444444444444444,
              "#bd3786"
             ],
             [
              0.5555555555555556,
              "#d8576b"
             ],
             [
              0.6666666666666666,
              "#ed7953"
             ],
             [
              0.7777777777777778,
              "#fb9f3a"
             ],
             [
              0.8888888888888888,
              "#fdca26"
             ],
             [
              1.0,
              "#f0f921"
             ]
            ]
           }
          ],
          "choropleth": [
           {
            "type": "choropleth",
            "colorbar": {
             "outlinewidth": 0,
             "ticks": ""
            }
           }
          ],
          "histogram2d": [
           {
            "type": "histogram2d",
            "colorbar": {
             "outlinewidth": 0,
             "ticks": ""
            },
            "colorscale": [
             [
              0.0,
              "#0d0887"
             ],
             [
              0.1111111111111111,
              "#46039f"
             ],
             [
              0.2222222222222222,
              "#7201a8"
             ],
             [
              0.3333333333333333,
              "#9c179e"
             ],
             [
              0.4444444444444444,
              "#bd3786"
             ],
             [
              0.5555555555555556,
              "#d8576b"
             ],
             [
              0.6666666666666666,
              "#ed7953"
             ],
             [
              0.7777777777777778,
              "#fb9f3a"
             ],
             [
              0.8888888888888888,
              "#fdca26"
             ],
             [
              1.0,
              "#f0f921"
             ]
            ]
           }
          ],
          "heatmap": [
           {
            "type": "heatmap",
            "colorbar": {
             "outlinewidth": 0,
             "ticks": ""
            },
            "colorscale": [
             [
              0.0,
              "#0d0887"
             ],
             [
              0.1111111111111111,
              "#46039f"
             ],
             [
              0.2222222222222222,
              "#7201a8"
             ],
             [
              0.3333333333333333,
              "#9c179e"
             ],
             [
              0.4444444444444444,
              "#bd3786"
             ],
             [
              0.5555555555555556,
              "#d8576b"
             ],
             [
              0.6666666666666666,
              "#ed7953"
             ],
             [
              0.7777777777777778,
              "#fb9f3a"
             ],
             [
              0.8888888888888888,
              "#fdca26"
             ],
             [
              1.0,
              "#f0f921"
             ]
            ]
           }
          ],
          "heatmapgl": [
           {
            "type": "heatmapgl",
            "colorbar": {
             "outlinewidth": 0,
             "ticks": ""
            },
            "colorscale": [
             [
              0.0,
              "#0d0887"
             ],
             [
              0.1111111111111111,
              "#46039f"
             ],
             [
              0.2222222222222222,
              "#7201a8"
             ],
             [
              0.3333333333333333,
              "#9c179e"
             ],
             [
              0.4444444444444444,
              "#bd3786"
             ],
             [
              0.5555555555555556,
              "#d8576b"
             ],
             [
              0.6666666666666666,
              "#ed7953"
             ],
             [
              0.7777777777777778,
              "#fb9f3a"
             ],
             [
              0.8888888888888888,
              "#fdca26"
             ],
             [
              1.0,
              "#f0f921"
             ]
            ]
           }
          ],
          "contourcarpet": [
           {
            "type": "contourcarpet",
            "colorbar": {
             "outlinewidth": 0,
             "ticks": ""
            }
           }
          ],
          "contour": [
           {
            "type": "contour",
            "colorbar": {
             "outlinewidth": 0,
             "ticks": ""
            },
            "colorscale": [
             [
              0.0,
              "#0d0887"
             ],
             [
              0.1111111111111111,
              "#46039f"
             ],
             [
              0.2222222222222222,
              "#7201a8"
             ],
             [
              0.3333333333333333,
              "#9c179e"
             ],
             [
              0.4444444444444444,
              "#bd3786"
             ],
             [
              0.5555555555555556,
              "#d8576b"
             ],
             [
              0.6666666666666666,
              "#ed7953"
             ],
             [
              0.7777777777777778,
              "#fb9f3a"
             ],
             [
              0.8888888888888888,
              "#fdca26"
             ],
             [
              1.0,
              "#f0f921"
             ]
            ]
           }
          ],
          "surface": [
           {
            "type": "surface",
            "colorbar": {
             "outlinewidth": 0,
             "ticks": ""
            },
            "colorscale": [
             [
              0.0,
              "#0d0887"
             ],
             [
              0.1111111111111111,
              "#46039f"
             ],
             [
              0.2222222222222222,
              "#7201a8"
             ],
             [
              0.3333333333333333,
              "#9c179e"
             ],
             [
              0.4444444444444444,
              "#bd3786"
             ],
             [
              0.5555555555555556,
              "#d8576b"
             ],
             [
              0.6666666666666666,
              "#ed7953"
             ],
             [
              0.7777777777777778,
              "#fb9f3a"
             ],
             [
              0.8888888888888888,
              "#fdca26"
             ],
             [
              1.0,
              "#f0f921"
             ]
            ]
           }
          ],
          "mesh3d": [
           {
            "type": "mesh3d",
            "colorbar": {
             "outlinewidth": 0,
             "ticks": ""
            }
           }
          ],
          "scatter": [
           {
            "marker": {
             "line": {
              "color": "#283442"
             }
            },
            "type": "scatter"
           }
          ],
          "parcoords": [
           {
            "type": "parcoords",
            "line": {
             "colorbar": {
              "outlinewidth": 0,
              "ticks": ""
             }
            }
           }
          ],
          "scatterpolargl": [
           {
            "type": "scatterpolargl",
            "marker": {
             "colorbar": {
              "outlinewidth": 0,
              "ticks": ""
             }
            }
           }
          ],
          "bar": [
           {
            "error_x": {
             "color": "#f2f5fa"
            },
            "error_y": {
             "color": "#f2f5fa"
            },
            "marker": {
             "line": {
              "color": "rgb(17,17,17)",
              "width": 0.5
             },
             "pattern": {
              "fillmode": "overlay",
              "size": 10,
              "solidity": 0.2
             }
            },
            "type": "bar"
           }
          ],
          "scattergeo": [
           {
            "type": "scattergeo",
            "marker": {
             "colorbar": {
              "outlinewidth": 0,
              "ticks": ""
             }
            }
           }
          ],
          "scatterpolar": [
           {
            "type": "scatterpolar",
            "marker": {
             "colorbar": {
              "outlinewidth": 0,
              "ticks": ""
             }
            }
           }
          ],
          "histogram": [
           {
            "marker": {
             "pattern": {
              "fillmode": "overlay",
              "size": 10,
              "solidity": 0.2
             }
            },
            "type": "histogram"
           }
          ],
          "scattergl": [
           {
            "marker": {
             "line": {
              "color": "#283442"
             }
            },
            "type": "scattergl"
           }
          ],
          "scatter3d": [
           {
            "type": "scatter3d",
            "line": {
             "colorbar": {
              "outlinewidth": 0,
              "ticks": ""
             }
            },
            "marker": {
             "colorbar": {
              "outlinewidth": 0,
              "ticks": ""
             }
            }
           }
          ],
          "scattermapbox": [
           {
            "type": "scattermapbox",
            "marker": {
             "colorbar": {
              "outlinewidth": 0,
              "ticks": ""
             }
            }
           }
          ],
          "scatterternary": [
           {
            "type": "scatterternary",
            "marker": {
             "colorbar": {
              "outlinewidth": 0,
              "ticks": ""
             }
            }
           }
          ],
          "scattercarpet": [
           {
            "type": "scattercarpet",
            "marker": {
             "colorbar": {
              "outlinewidth": 0,
              "ticks": ""
             }
            }
           }
          ],
          "carpet": [
           {
            "aaxis": {
             "endlinecolor": "#A2B1C6",
             "gridcolor": "#506784",
             "linecolor": "#506784",
             "minorgridcolor": "#506784",
             "startlinecolor": "#A2B1C6"
            },
            "baxis": {
             "endlinecolor": "#A2B1C6",
             "gridcolor": "#506784",
             "linecolor": "#506784",
             "minorgridcolor": "#506784",
             "startlinecolor": "#A2B1C6"
            },
            "type": "carpet"
           }
          ],
          "table": [
           {
            "cells": {
             "fill": {
              "color": "#506784"
             },
             "line": {
              "color": "rgb(17,17,17)"
             }
            },
            "header": {
             "fill": {
              "color": "#2a3f5f"
             },
             "line": {
              "color": "rgb(17,17,17)"
             }
            },
            "type": "table"
           }
          ],
          "barpolar": [
           {
            "marker": {
             "line": {
              "color": "rgb(17,17,17)",
              "width": 0.5
             },
             "pattern": {
              "fillmode": "overlay",
              "size": 10,
              "solidity": 0.2
             }
            },
            "type": "barpolar"
           }
          ],
          "pie": [
           {
            "automargin": true,
            "type": "pie"
           }
          ]
         },
         "layout": {
          "autotypenumbers": "strict",
          "colorway": [
           "#636efa",
           "#EF553B",
           "#00cc96",
           "#ab63fa",
           "#FFA15A",
           "#19d3f3",
           "#FF6692",
           "#B6E880",
           "#FF97FF",
           "#FECB52"
          ],
          "font": {
           "color": "#f2f5fa"
          },
          "hovermode": "closest",
          "hoverlabel": {
           "align": "left"
          },
          "paper_bgcolor": "rgb(17,17,17)",
          "plot_bgcolor": "rgb(17,17,17)",
          "polar": {
           "bgcolor": "rgb(17,17,17)",
           "angularaxis": {
            "gridcolor": "#506784",
            "linecolor": "#506784",
            "ticks": ""
           },
           "radialaxis": {
            "gridcolor": "#506784",
            "linecolor": "#506784",
            "ticks": ""
           }
          },
          "ternary": {
           "bgcolor": "rgb(17,17,17)",
           "aaxis": {
            "gridcolor": "#506784",
            "linecolor": "#506784",
            "ticks": ""
           },
           "baxis": {
            "gridcolor": "#506784",
            "linecolor": "#506784",
            "ticks": ""
           },
           "caxis": {
            "gridcolor": "#506784",
            "linecolor": "#506784",
            "ticks": ""
           }
          },
          "coloraxis": {
           "colorbar": {
            "outlinewidth": 0,
            "ticks": ""
           }
          },
          "colorscale": {
           "sequential": [
            [
             0.0,
             "#0d0887"
            ],
            [
             0.1111111111111111,
             "#46039f"
            ],
            [
             0.2222222222222222,
             "#7201a8"
            ],
            [
             0.3333333333333333,
             "#9c179e"
            ],
            [
             0.4444444444444444,
             "#bd3786"
            ],
            [
             0.5555555555555556,
             "#d8576b"
            ],
            [
             0.6666666666666666,
             "#ed7953"
            ],
            [
             0.7777777777777778,
             "#fb9f3a"
            ],
            [
             0.8888888888888888,
             "#fdca26"
            ],
            [
             1.0,
             "#f0f921"
            ]
           ],
           "sequentialminus": [
            [
             0.0,
             "#0d0887"
            ],
            [
             0.1111111111111111,
             "#46039f"
            ],
            [
             0.2222222222222222,
             "#7201a8"
            ],
            [
             0.3333333333333333,
             "#9c179e"
            ],
            [
             0.4444444444444444,
             "#bd3786"
            ],
            [
             0.5555555555555556,
             "#d8576b"
            ],
            [
             0.6666666666666666,
             "#ed7953"
            ],
            [
             0.7777777777777778,
             "#fb9f3a"
            ],
            [
             0.8888888888888888,
             "#fdca26"
            ],
            [
             1.0,
             "#f0f921"
            ]
           ],
           "diverging": [
            [
             0,
             "#8e0152"
            ],
            [
             0.1,
             "#c51b7d"
            ],
            [
             0.2,
             "#de77ae"
            ],
            [
             0.3,
             "#f1b6da"
            ],
            [
             0.4,
             "#fde0ef"
            ],
            [
             0.5,
             "#f7f7f7"
            ],
            [
             0.6,
             "#e6f5d0"
            ],
            [
             0.7,
             "#b8e186"
            ],
            [
             0.8,
             "#7fbc41"
            ],
            [
             0.9,
             "#4d9221"
            ],
            [
             1,
             "#276419"
            ]
           ]
          },
          "xaxis": {
           "gridcolor": "#283442",
           "linecolor": "#506784",
           "ticks": "",
           "title": {
            "standoff": 15
           },
           "zerolinecolor": "#283442",
           "automargin": true,
           "zerolinewidth": 2
          },
          "yaxis": {
           "gridcolor": "#283442",
           "linecolor": "#506784",
           "ticks": "",
           "title": {
            "standoff": 15
           },
           "zerolinecolor": "#283442",
           "automargin": true,
           "zerolinewidth": 2
          },
          "scene": {
           "xaxis": {
            "backgroundcolor": "rgb(17,17,17)",
            "gridcolor": "#506784",
            "linecolor": "#506784",
            "showbackground": true,
            "ticks": "",
            "zerolinecolor": "#C8D4E3",
            "gridwidth": 2
           },
           "yaxis": {
            "backgroundcolor": "rgb(17,17,17)",
            "gridcolor": "#506784",
            "linecolor": "#506784",
            "showbackground": true,
            "ticks": "",
            "zerolinecolor": "#C8D4E3",
            "gridwidth": 2
           },
           "zaxis": {
            "backgroundcolor": "rgb(17,17,17)",
            "gridcolor": "#506784",
            "linecolor": "#506784",
            "showbackground": true,
            "ticks": "",
            "zerolinecolor": "#C8D4E3",
            "gridwidth": 2
           }
          },
          "shapedefaults": {
           "line": {
            "color": "#f2f5fa"
           }
          },
          "annotationdefaults": {
           "arrowcolor": "#f2f5fa",
           "arrowhead": 0,
           "arrowwidth": 1
          },
          "geo": {
           "bgcolor": "rgb(17,17,17)",
           "landcolor": "rgb(17,17,17)",
           "subunitcolor": "#506784",
           "showland": true,
           "showlakes": true,
           "lakecolor": "rgb(17,17,17)"
          },
          "title": {
           "x": 0.05
          },
          "updatemenudefaults": {
           "bgcolor": "#506784",
           "borderwidth": 0
          },
          "sliderdefaults": {
           "bgcolor": "#C8D4E3",
           "borderwidth": 1,
           "bordercolor": "rgb(17,17,17)",
           "tickwidth": 0
          },
          "mapbox": {
           "style": "dark"
          }
         }
        },
        "legend": {
         "tracegroupgap": 0
        },
        "margin": {
         "t": 60
        },
        "dragmode": "select"
       },
       "config": {
        "plotlyServerURL": "https://plot.ly"
       }
      },
      "text/html": [
       "<div>                            <div id=\"70a0dc2b-ed2f-41e4-8cd2-044dc5faddf8\" class=\"plotly-graph-div\" style=\"height:525px; width:100%;\"></div>            <script type=\"text/javascript\">                require([\"plotly\"], function(Plotly) {                    window.PLOTLYENV=window.PLOTLYENV || {};                                    if (document.getElementById(\"70a0dc2b-ed2f-41e4-8cd2-044dc5faddf8\")) {                    Plotly.newPlot(                        \"70a0dc2b-ed2f-41e4-8cd2-044dc5faddf8\",                        [{\"dimensions\":[{\"axis\":{\"matches\":true},\"label\":\"Rok\",\"values\":[2007,2008,2009,2010,2011,2012,2013,2014,2015,2016,2017]},{\"axis\":{\"matches\":true},\"label\":\"Przych\\u00f3d w mln $\",\"values\":[153,272,777,1974,3711,5089,7872,12466,17928,27638,40653]},{\"axis\":{\"matches\":true},\"label\":\"Zysk w mln $\",\"values\":[-138,-56,229,606,1000,53,1500,2940,3688,10217,15934]},{\"axis\":{\"matches\":true},\"label\":\"Zatrudnienie\",\"values\":[450,850,1218,2127,3200,4619,6337,9199,12691,17048,25105]},{\"axis\":{\"matches\":true},\"label\":\"U\\u017cytkownicy_mln\",\"values\":[0,0,360,608,845,1056,1228,1393,1591,1860,2129]},{\"axis\":{\"matches\":true},\"label\":\"Koszty w mln $\",\"values\":[291,328,548,1368,2711,5036,6372,9526,14240,17421,24719]}],\"hovertemplate\":\"%{xaxis.title.text}=%{x}\\u003cbr\\u003e%{yaxis.title.text}=%{y}\\u003cextra\\u003e\\u003c\\u002fextra\\u003e\",\"legendgroup\":\"\",\"marker\":{\"color\":\"#636efa\",\"symbol\":\"circle\"},\"name\":\"\",\"showlegend\":false,\"type\":\"splom\"}],                        {\"template\":{\"data\":{\"histogram2dcontour\":[{\"type\":\"histogram2dcontour\",\"colorbar\":{\"outlinewidth\":0,\"ticks\":\"\"},\"colorscale\":[[0.0,\"#0d0887\"],[0.1111111111111111,\"#46039f\"],[0.2222222222222222,\"#7201a8\"],[0.3333333333333333,\"#9c179e\"],[0.4444444444444444,\"#bd3786\"],[0.5555555555555556,\"#d8576b\"],[0.6666666666666666,\"#ed7953\"],[0.7777777777777778,\"#fb9f3a\"],[0.8888888888888888,\"#fdca26\"],[1.0,\"#f0f921\"]]}],\"choropleth\":[{\"type\":\"choropleth\",\"colorbar\":{\"outlinewidth\":0,\"ticks\":\"\"}}],\"histogram2d\":[{\"type\":\"histogram2d\",\"colorbar\":{\"outlinewidth\":0,\"ticks\":\"\"},\"colorscale\":[[0.0,\"#0d0887\"],[0.1111111111111111,\"#46039f\"],[0.2222222222222222,\"#7201a8\"],[0.3333333333333333,\"#9c179e\"],[0.4444444444444444,\"#bd3786\"],[0.5555555555555556,\"#d8576b\"],[0.6666666666666666,\"#ed7953\"],[0.7777777777777778,\"#fb9f3a\"],[0.8888888888888888,\"#fdca26\"],[1.0,\"#f0f921\"]]}],\"heatmap\":[{\"type\":\"heatmap\",\"colorbar\":{\"outlinewidth\":0,\"ticks\":\"\"},\"colorscale\":[[0.0,\"#0d0887\"],[0.1111111111111111,\"#46039f\"],[0.2222222222222222,\"#7201a8\"],[0.3333333333333333,\"#9c179e\"],[0.4444444444444444,\"#bd3786\"],[0.5555555555555556,\"#d8576b\"],[0.6666666666666666,\"#ed7953\"],[0.7777777777777778,\"#fb9f3a\"],[0.8888888888888888,\"#fdca26\"],[1.0,\"#f0f921\"]]}],\"heatmapgl\":[{\"type\":\"heatmapgl\",\"colorbar\":{\"outlinewidth\":0,\"ticks\":\"\"},\"colorscale\":[[0.0,\"#0d0887\"],[0.1111111111111111,\"#46039f\"],[0.2222222222222222,\"#7201a8\"],[0.3333333333333333,\"#9c179e\"],[0.4444444444444444,\"#bd3786\"],[0.5555555555555556,\"#d8576b\"],[0.6666666666666666,\"#ed7953\"],[0.7777777777777778,\"#fb9f3a\"],[0.8888888888888888,\"#fdca26\"],[1.0,\"#f0f921\"]]}],\"contourcarpet\":[{\"type\":\"contourcarpet\",\"colorbar\":{\"outlinewidth\":0,\"ticks\":\"\"}}],\"contour\":[{\"type\":\"contour\",\"colorbar\":{\"outlinewidth\":0,\"ticks\":\"\"},\"colorscale\":[[0.0,\"#0d0887\"],[0.1111111111111111,\"#46039f\"],[0.2222222222222222,\"#7201a8\"],[0.3333333333333333,\"#9c179e\"],[0.4444444444444444,\"#bd3786\"],[0.5555555555555556,\"#d8576b\"],[0.6666666666666666,\"#ed7953\"],[0.7777777777777778,\"#fb9f3a\"],[0.8888888888888888,\"#fdca26\"],[1.0,\"#f0f921\"]]}],\"surface\":[{\"type\":\"surface\",\"colorbar\":{\"outlinewidth\":0,\"ticks\":\"\"},\"colorscale\":[[0.0,\"#0d0887\"],[0.1111111111111111,\"#46039f\"],[0.2222222222222222,\"#7201a8\"],[0.3333333333333333,\"#9c179e\"],[0.4444444444444444,\"#bd3786\"],[0.5555555555555556,\"#d8576b\"],[0.6666666666666666,\"#ed7953\"],[0.7777777777777778,\"#fb9f3a\"],[0.8888888888888888,\"#fdca26\"],[1.0,\"#f0f921\"]]}],\"mesh3d\":[{\"type\":\"mesh3d\",\"colorbar\":{\"outlinewidth\":0,\"ticks\":\"\"}}],\"scatter\":[{\"marker\":{\"line\":{\"color\":\"#283442\"}},\"type\":\"scatter\"}],\"parcoords\":[{\"type\":\"parcoords\",\"line\":{\"colorbar\":{\"outlinewidth\":0,\"ticks\":\"\"}}}],\"scatterpolargl\":[{\"type\":\"scatterpolargl\",\"marker\":{\"colorbar\":{\"outlinewidth\":0,\"ticks\":\"\"}}}],\"bar\":[{\"error_x\":{\"color\":\"#f2f5fa\"},\"error_y\":{\"color\":\"#f2f5fa\"},\"marker\":{\"line\":{\"color\":\"rgb(17,17,17)\",\"width\":0.5},\"pattern\":{\"fillmode\":\"overlay\",\"size\":10,\"solidity\":0.2}},\"type\":\"bar\"}],\"scattergeo\":[{\"type\":\"scattergeo\",\"marker\":{\"colorbar\":{\"outlinewidth\":0,\"ticks\":\"\"}}}],\"scatterpolar\":[{\"type\":\"scatterpolar\",\"marker\":{\"colorbar\":{\"outlinewidth\":0,\"ticks\":\"\"}}}],\"histogram\":[{\"marker\":{\"pattern\":{\"fillmode\":\"overlay\",\"size\":10,\"solidity\":0.2}},\"type\":\"histogram\"}],\"scattergl\":[{\"marker\":{\"line\":{\"color\":\"#283442\"}},\"type\":\"scattergl\"}],\"scatter3d\":[{\"type\":\"scatter3d\",\"line\":{\"colorbar\":{\"outlinewidth\":0,\"ticks\":\"\"}},\"marker\":{\"colorbar\":{\"outlinewidth\":0,\"ticks\":\"\"}}}],\"scattermapbox\":[{\"type\":\"scattermapbox\",\"marker\":{\"colorbar\":{\"outlinewidth\":0,\"ticks\":\"\"}}}],\"scatterternary\":[{\"type\":\"scatterternary\",\"marker\":{\"colorbar\":{\"outlinewidth\":0,\"ticks\":\"\"}}}],\"scattercarpet\":[{\"type\":\"scattercarpet\",\"marker\":{\"colorbar\":{\"outlinewidth\":0,\"ticks\":\"\"}}}],\"carpet\":[{\"aaxis\":{\"endlinecolor\":\"#A2B1C6\",\"gridcolor\":\"#506784\",\"linecolor\":\"#506784\",\"minorgridcolor\":\"#506784\",\"startlinecolor\":\"#A2B1C6\"},\"baxis\":{\"endlinecolor\":\"#A2B1C6\",\"gridcolor\":\"#506784\",\"linecolor\":\"#506784\",\"minorgridcolor\":\"#506784\",\"startlinecolor\":\"#A2B1C6\"},\"type\":\"carpet\"}],\"table\":[{\"cells\":{\"fill\":{\"color\":\"#506784\"},\"line\":{\"color\":\"rgb(17,17,17)\"}},\"header\":{\"fill\":{\"color\":\"#2a3f5f\"},\"line\":{\"color\":\"rgb(17,17,17)\"}},\"type\":\"table\"}],\"barpolar\":[{\"marker\":{\"line\":{\"color\":\"rgb(17,17,17)\",\"width\":0.5},\"pattern\":{\"fillmode\":\"overlay\",\"size\":10,\"solidity\":0.2}},\"type\":\"barpolar\"}],\"pie\":[{\"automargin\":true,\"type\":\"pie\"}]},\"layout\":{\"autotypenumbers\":\"strict\",\"colorway\":[\"#636efa\",\"#EF553B\",\"#00cc96\",\"#ab63fa\",\"#FFA15A\",\"#19d3f3\",\"#FF6692\",\"#B6E880\",\"#FF97FF\",\"#FECB52\"],\"font\":{\"color\":\"#f2f5fa\"},\"hovermode\":\"closest\",\"hoverlabel\":{\"align\":\"left\"},\"paper_bgcolor\":\"rgb(17,17,17)\",\"plot_bgcolor\":\"rgb(17,17,17)\",\"polar\":{\"bgcolor\":\"rgb(17,17,17)\",\"angularaxis\":{\"gridcolor\":\"#506784\",\"linecolor\":\"#506784\",\"ticks\":\"\"},\"radialaxis\":{\"gridcolor\":\"#506784\",\"linecolor\":\"#506784\",\"ticks\":\"\"}},\"ternary\":{\"bgcolor\":\"rgb(17,17,17)\",\"aaxis\":{\"gridcolor\":\"#506784\",\"linecolor\":\"#506784\",\"ticks\":\"\"},\"baxis\":{\"gridcolor\":\"#506784\",\"linecolor\":\"#506784\",\"ticks\":\"\"},\"caxis\":{\"gridcolor\":\"#506784\",\"linecolor\":\"#506784\",\"ticks\":\"\"}},\"coloraxis\":{\"colorbar\":{\"outlinewidth\":0,\"ticks\":\"\"}},\"colorscale\":{\"sequential\":[[0.0,\"#0d0887\"],[0.1111111111111111,\"#46039f\"],[0.2222222222222222,\"#7201a8\"],[0.3333333333333333,\"#9c179e\"],[0.4444444444444444,\"#bd3786\"],[0.5555555555555556,\"#d8576b\"],[0.6666666666666666,\"#ed7953\"],[0.7777777777777778,\"#fb9f3a\"],[0.8888888888888888,\"#fdca26\"],[1.0,\"#f0f921\"]],\"sequentialminus\":[[0.0,\"#0d0887\"],[0.1111111111111111,\"#46039f\"],[0.2222222222222222,\"#7201a8\"],[0.3333333333333333,\"#9c179e\"],[0.4444444444444444,\"#bd3786\"],[0.5555555555555556,\"#d8576b\"],[0.6666666666666666,\"#ed7953\"],[0.7777777777777778,\"#fb9f3a\"],[0.8888888888888888,\"#fdca26\"],[1.0,\"#f0f921\"]],\"diverging\":[[0,\"#8e0152\"],[0.1,\"#c51b7d\"],[0.2,\"#de77ae\"],[0.3,\"#f1b6da\"],[0.4,\"#fde0ef\"],[0.5,\"#f7f7f7\"],[0.6,\"#e6f5d0\"],[0.7,\"#b8e186\"],[0.8,\"#7fbc41\"],[0.9,\"#4d9221\"],[1,\"#276419\"]]},\"xaxis\":{\"gridcolor\":\"#283442\",\"linecolor\":\"#506784\",\"ticks\":\"\",\"title\":{\"standoff\":15},\"zerolinecolor\":\"#283442\",\"automargin\":true,\"zerolinewidth\":2},\"yaxis\":{\"gridcolor\":\"#283442\",\"linecolor\":\"#506784\",\"ticks\":\"\",\"title\":{\"standoff\":15},\"zerolinecolor\":\"#283442\",\"automargin\":true,\"zerolinewidth\":2},\"scene\":{\"xaxis\":{\"backgroundcolor\":\"rgb(17,17,17)\",\"gridcolor\":\"#506784\",\"linecolor\":\"#506784\",\"showbackground\":true,\"ticks\":\"\",\"zerolinecolor\":\"#C8D4E3\",\"gridwidth\":2},\"yaxis\":{\"backgroundcolor\":\"rgb(17,17,17)\",\"gridcolor\":\"#506784\",\"linecolor\":\"#506784\",\"showbackground\":true,\"ticks\":\"\",\"zerolinecolor\":\"#C8D4E3\",\"gridwidth\":2},\"zaxis\":{\"backgroundcolor\":\"rgb(17,17,17)\",\"gridcolor\":\"#506784\",\"linecolor\":\"#506784\",\"showbackground\":true,\"ticks\":\"\",\"zerolinecolor\":\"#C8D4E3\",\"gridwidth\":2}},\"shapedefaults\":{\"line\":{\"color\":\"#f2f5fa\"}},\"annotationdefaults\":{\"arrowcolor\":\"#f2f5fa\",\"arrowhead\":0,\"arrowwidth\":1},\"geo\":{\"bgcolor\":\"rgb(17,17,17)\",\"landcolor\":\"rgb(17,17,17)\",\"subunitcolor\":\"#506784\",\"showland\":true,\"showlakes\":true,\"lakecolor\":\"rgb(17,17,17)\"},\"title\":{\"x\":0.05},\"updatemenudefaults\":{\"bgcolor\":\"#506784\",\"borderwidth\":0},\"sliderdefaults\":{\"bgcolor\":\"#C8D4E3\",\"borderwidth\":1,\"bordercolor\":\"rgb(17,17,17)\",\"tickwidth\":0},\"mapbox\":{\"style\":\"dark\"}}},\"legend\":{\"tracegroupgap\":0},\"margin\":{\"t\":60},\"dragmode\":\"select\"},                        {\"responsive\": true}                    ).then(function(){\n",
       "                            \n",
       "var gd = document.getElementById('70a0dc2b-ed2f-41e4-8cd2-044dc5faddf8');\n",
       "var x = new MutationObserver(function (mutations, observer) {{\n",
       "        var display = window.getComputedStyle(gd).display;\n",
       "        if (!display || display === 'none') {{\n",
       "            console.log([gd, 'removed!']);\n",
       "            Plotly.purge(gd);\n",
       "            observer.disconnect();\n",
       "        }}\n",
       "}});\n",
       "\n",
       "// Listen for the removal of the full notebook cells\n",
       "var notebookContainer = gd.closest('#notebook-container');\n",
       "if (notebookContainer) {{\n",
       "    x.observe(notebookContainer, {childList: true});\n",
       "}}\n",
       "\n",
       "// Listen for the clearing of the current output cell\n",
       "var outputEl = gd.closest('.output');\n",
       "if (outputEl) {{\n",
       "    x.observe(outputEl, {childList: true});\n",
       "}}\n",
       "\n",
       "                        })                };                });            </script>        </div>"
      ]
     },
     "metadata": {},
     "output_type": "display_data"
    }
   ],
   "execution_count": 480
  },
  {
   "metadata": {
    "ExecuteTime": {
     "end_time": "2024-11-26T22:04:23.108278Z",
     "start_time": "2024-11-26T22:04:23.100920Z"
    }
   },
   "cell_type": "code",
   "source": [
    "from sklearn.metrics import mean_absolute_error, r2_score\n",
    "\n",
    "\n",
    "def calculate_mae(y_true, y_pred):\n",
    "    return mean_absolute_error(y_true, y_pred)\n",
    "def calculate_rmse(y_true, y_pred):\n",
    "    return np.sqrt(mean_squared_error(y_true, y_pred))\n",
    "def calculate_r2(y_true, y_pred):\n",
    "    return r2_score(y_true, y_pred)\n",
    "def calculate_me(y_true, y_pred):\n",
    "    return np.mean(y_true - y_pred)\n",
    "def calculate_mpe(y_true, y_pred):\n",
    "    return np.mean((y_true - y_pred) / y_true)\n",
    "def calculate_mape(y_true, y_pred):\n",
    "    return np.mean(np.abs(y_true - y_pred) / y_true)\n",
    "def calculate_u2(y_true, y_pred):\n",
    "    return np.sum((y_true - y_pred) ** 2) / np.sum((y_true - np.mean(y_true)) ** 2)\n",
    "def calculate_um(y_true, y_pred):\n",
    "    return np.sum((y_true - y_pred) ** 2) / np.sum(np.abs(y_true - np.mean(y_true)))\n",
    "def calculate_ur(y_true, y_pred):\n",
    "    return np.sum((y_true - y_pred) ** 2) / np.sum((np.abs(y_true) + np.abs(y_pred)) ** 2)\n",
    "def calculate_ud(y_true, y_pred):\n",
    "    return np.sum((y_true - y_pred) ** 2) / np.sum((np.abs(y_true) + np.abs(y_pred)) / 2)\n",
    "\n"
   ],
   "id": "2f1ecdf05ab04c2",
   "outputs": [],
   "execution_count": 481
  },
  {
   "metadata": {
    "ExecuteTime": {
     "end_time": "2024-11-26T22:04:23.636979Z",
     "start_time": "2024-11-26T22:04:23.137021Z"
    }
   },
   "cell_type": "code",
   "source": [
    "\n",
    "# dane uczące to do q4 14 wlacznie\n",
    "\n",
    "X_uczace = data_user_count_q[[\"Q\"]][:25]\n",
    "Y_uczace = data_user_count_q[\"User count\"][:25]\n",
    "X_walidacyjne = data_user_count_q[[\"Q\"]][25:]\n",
    "Y_walidacyjne = data_user_count_q[\"User count\"][25:]\n",
    "\n",
    "# trenowanie modelu\n",
    "model = LinearRegression()\n",
    "model.fit(X_uczace, Y_uczace)\n",
    "\n",
    "# prognozy dla danych walidacyjnych\n",
    "Y_pred = model.predict(X_walidacyjne)\n",
    "\n",
    "#wyswietl R^2 modelu\n",
    "print(\"Współczynniki modelu R^2: \", model.score(X_uczace, Y_uczace))\n",
    "\n",
    "\n",
    "# wyswietli parametry predykcji\n",
    "print(\"Współczynnik ME\", calculate_me(Y_walidacyjne, Y_pred))\n",
    "print(\"Współczynnik RMSE\", calculate_rmse(Y_walidacyjne, Y_pred))\n",
    "print(\"Współczynnik MAE\", calculate_mae(Y_walidacyjne, Y_pred))\n",
    "print(\"Współczynnik MPE\", calculate_mpe(Y_walidacyjne, Y_pred))\n",
    "print(\"Współczynnik MAPE\", calculate_mape(Y_walidacyjne, Y_pred) ,\"\\n\")\n",
    "\n",
    "\n",
    "# wykres\n",
    "plt.scatter(X_uczace, Y_uczace, color='red', label='Dane Uczące')\n",
    "plt.scatter(X_walidacyjne, Y_walidacyjne, color='green', label='Dane walidacyjne')\n",
    "plt.plot(X_walidacyjne, Y_pred, color='orange', label='Prognozy (Dane walidacyjne)')\n",
    "# proste regresji liniowej +- 0.95 odchylenia t-studenta\n",
    "# dwie proste nie errorbar\n",
    "plt.plot(X_walidacyjne, Y_pred + 1.96 * np.std(Y_walidacyjne - Y_pred), color='orange', linestyle='dotted', label='Przedział ufności')\n",
    "plt.plot(X_walidacyjne, Y_pred - 1.96 * np.std(Y_walidacyjne - Y_pred), color='orange', linestyle='dotted')\n",
    "plt.legend()\n",
    "plt.xlabel(\"kwartał\")\n",
    "plt.ylabel(\"Liczba użytkowników\")\n",
    "plt.title(\"Regresja: Liczba użytkowników od kwartału\")\n",
    "plt.xticks(ticks=np.arange(1, 64, 8), labels=['2008', '2010', '2012', '2014', '2016', '2018', '2020', '2022'])\n",
    "\n",
    "plt.show()\n",
    "# dodaj na osi x lata 2008-2017\n",
    "\n",
    "# Przygotowanie danych do predykcji dla lat 2018-2020 oraz y_pred (poprzednia predykcja)\n",
    "\n",
    "\n",
    "X_future = list(range(27, 51))\n",
    "# połacz dane\n",
    "X_future = pd.DataFrame(X_future, columns=[\"Q\"])\n",
    "Y_future = model.predict(X_future)\n",
    "\n",
    "dane_walidacyjne_2014_2020 = np.concatenate((Y_walidacyjne, data_future1[\"User count\"][:12]))\n",
    "\n",
    "print(\"wspolczynnik ME\", calculate_me(dane_walidacyjne_2014_2020, Y_future))\n",
    "print(\"wspolczynnik RMSE\", calculate_rmse(dane_walidacyjne_2014_2020, Y_future))\n",
    "print(\"wspolczynnik MAE\", calculate_mae(dane_walidacyjne_2014_2020, Y_future))\n",
    "print(\"wspolczynnik MPE\", calculate_mpe(dane_walidacyjne_2014_2020, Y_future))\n",
    "print(\"wspolczynnik MAPE\", calculate_mape(dane_walidacyjne_2014_2020, Y_future))\n",
    "\n",
    "\n",
    "\n",
    "\n",
    "plt.scatter(X_uczace, Y_uczace, color='red', label='Dane Uczące')\n",
    "plt.plot(X_future, Y_future, color='orange', label='Prognozy')\n",
    "plt.scatter(X_walidacyjne, Y_walidacyjne, color='green', label='Dane walidacyjne')\n",
    "plt.scatter(data_future1[\"Q\"][:12], data_future1[\"User count\"][:12], color='green', label='Dane Rzeczywiste')\n",
    "# 95% przedział ufności\n",
    "plt.plot(X_future, Y_future + 1.96 * np.std(dane_walidacyjne_2014_2020 - Y_future), color='orange', linestyle='dotted', label='Przedział ufności')\n",
    "plt.plot(X_future, Y_future - 1.96 * np.std(dane_walidacyjne_2014_2020 - Y_future), color='orange', linestyle='dotted')\n",
    "plt.legend()\n",
    "plt.xlabel(\"kwartał\")\n",
    "plt.ylabel(\"Liczba użytkowników\")\n",
    "plt.title(\"Regresja: Liczba użytkowników od kwartału\")\n",
    "plt.xticks(ticks=np.arange(1, 64, 8), labels=['2008', '2010', '2012', '2014', '2016', '2018', '2020', '2022'])\n",
    "\n",
    "plt.show()\n",
    "\n",
    "## Predykcja dla lat 2020-2023\n",
    "X_future_2014_2023 = list(range(27, 75))\n",
    "X_future_2014_2023 = pd.DataFrame(X_future_2014_2023, columns=[\"Q\"])\n",
    "Y_future_2014_2023 = model.predict(X_future_2014_2023)\n",
    "\n",
    "# połączenie danych rzeczywistych z lat 2014-2023\n",
    "\n",
    "All_Walidacyjne_Y = np.concatenate((Y_walidacyjne, data_future1[\"User count\"]))\n",
    "dane_walidacyjne_2014_2023 = np.concatenate((Y_walidacyjne, data_future1[\"User count\"]))\n",
    "print(\"wspolczynnik ME\", calculate_me(dane_walidacyjne_2014_2023, Y_future_2014_2023[:len(dane_walidacyjne_2014_2023)]))\n",
    "print(\"wspolczynnik RMSE\", calculate_rmse(dane_walidacyjne_2014_2023, Y_future_2014_2023[:len(dane_walidacyjne_2014_2023)]))\n",
    "print(\"wspolczynnik MAE\", calculate_mae(dane_walidacyjne_2014_2023, Y_future_2014_2023[:len(dane_walidacyjne_2014_2023)]))\n",
    "print(\"wspolczynnik MPE\", calculate_mpe(dane_walidacyjne_2014_2023, Y_future_2014_2023[:len(dane_walidacyjne_2014_2023)]))\n",
    "print(\"wspolczynnik MAPE\", calculate_mape(dane_walidacyjne_2014_2023, Y_future_2014_2023[:len(dane_walidacyjne_2014_2023)]))\n",
    "\n",
    "# wykres\n",
    "plt.scatter(X_uczace, Y_uczace, color='red', label='Dane Uczące')\n",
    "plt.plot(X_future_2014_2023[:len(dane_walidacyjne_2014_2023)], Y_future_2014_2023[:len(dane_walidacyjne_2014_2023)], color='orange', label='Prognozy')\n",
    "plt.scatter(X_future_2014_2023[:len(dane_walidacyjne_2014_2023)], dane_walidacyjne_2014_2023, color='green', label='Dane walidacyjne')\n",
    "# 95% przedział ufności\n",
    "plt.plot(X_future_2014_2023[:len(dane_walidacyjne_2014_2023)], Y_future_2014_2023[:len(dane_walidacyjne_2014_2023)] + 1.96 * np.std(dane_walidacyjne_2014_2023 - Y_future_2014_2023[:len(dane_walidacyjne_2014_2023)]), color='orange', linestyle='dotted', label='Przedział ufności')\n",
    "plt.plot(X_future_2014_2023[:len(dane_walidacyjne_2014_2023)], Y_future_2014_2023[:len(dane_walidacyjne_2014_2023)] - 1.96 * np.std(dane_walidacyjne_2014_2023 - Y_future_2014_2023[:len(dane_walidacyjne_2014_2023)]), color='orange', linestyle='dotted')\n",
    "print(dane_walidacyjne_2014_2023)\n",
    "plt.legend()\n",
    "plt.xlabel(\"kwartał\")\n",
    "plt.ylabel(\"Liczba użytkowników\")\n",
    "plt.title(\"Regresja: Liczba użytkowników od kwartału\")\n",
    "\n",
    "#dodanie na osi x lat 2008-2023\n",
    "plt.xticks(ticks=np.arange(1, 64, 8), labels=['2008', '2010', '2012', '2014', '2016', '2018', '2020', '2022'])\n",
    "plt.show()"
   ],
   "id": "24e6766423ceaaf5",
   "outputs": [
    {
     "name": "stdout",
     "output_type": "stream",
     "text": [
      "Współczynniki modelu R^2:  0.99418966467215\n",
      "Współczynnik ME -32.97151108964317\n",
      "Współczynnik RMSE 52.64037699995468\n",
      "Współczynnik MAE 46.565199452562105\n",
      "Współczynnik MPE -0.021686336475706027\n",
      "Współczynnik MAPE 0.028225236380228665 \n",
      "\n"
     ]
    },
    {
     "data": {
      "text/plain": [
       "<Figure size 640x480 with 1 Axes>"
      ],
      "image/png": "[encoded data removed]"
     },
     "metadata": {},
     "output_type": "display_data"
    },
    {
     "name": "stdout",
     "output_type": "stream",
     "text": [
      "wspolczynnik ME -4.636778971944068\n",
      "wspolczynnik RMSE 45.94106646357928\n",
      "wspolczynnik MAE 39.09421164915663\n",
      "wspolczynnik MPE -0.006186082487079557\n",
      "wspolczynnik MAPE 0.02037214433697467\n"
     ]
    },
    {
     "data": {
      "text/plain": [
       "<Figure size 640x480 with 1 Axes>"
      ],
      "image/png": "[encoded data removed]"
     },
     "metadata": {},
     "output_type": "display_data"
    },
    {
     "name": "stdout",
     "output_type": "stream",
     "text": [
      "wspolczynnik ME -45.13538018757832\n",
      "wspolczynnik RMSE 108.83994436697394\n",
      "wspolczynnik MAE 75.1854244656443\n",
      "wspolczynnik MPE -0.018064473065309904\n",
      "wspolczynnik MAPE 0.029983378481464523\n",
      "[1441 1490 1545 1591 1654 1712 1788 1860 1936 2006 2072 2129 2196 2234\n",
      " 2271 2320 2375 2414 2449 2498 2603 2701 2740 2797 2853 2895 2910 2912\n",
      " 2936 2934 2958 2963 2989 3030 3049 3065]\n"
     ]
    },
    {
     "data": {
      "text/plain": [
       "<Figure size 640x480 with 1 Axes>"
      ],
      "image/png": "[encoded data removed]"
     },
     "metadata": {},
     "output_type": "display_data"
    }
   ],
   "execution_count": 482
  }
 ],
 "metadata": {
  "kernelspec": {
   "display_name": "Python 3",
   "language": "python",
   "name": "python3"
  },
  "language_info": {
   "codemirror_mode": {
    "name": "ipython",
    "version": 2
   },
   "file_extension": ".py",
   "mimetype": "text/x-python",
   "name": "python",
   "nbconvert_exporter": "python",
   "pygments_lexer": "ipython2",
   "version": "2.7.6"
  }
 },
 "nbformat": 4,
 "nbformat_minor": 5
}
