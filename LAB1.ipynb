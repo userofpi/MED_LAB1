{
 "cells": [
  {
   "metadata": {},
   "cell_type": "markdown",
   "source": [
    "# Projekt LAB 1 Dane Facebook \n",
    "Maciej Klimiuk , Hanna Mika\n",
    "\n"
   ],
   "id": "1a27673bf5161860"
  },
  {
   "metadata": {
    "ExecuteTime": {
     "end_time": "2024-11-18T22:54:01.798840Z",
     "start_time": "2024-11-18T22:54:01.795645Z"
    }
   },
   "cell_type": "code",
   "source": [
    "import pandas as pd\n",
    "import numpy as np\n",
    "import matplotlib.pyplot as plt\n",
    "import plotly.express as px\n",
    "from sklearn.linear_model import LinearRegression\n",
    "from sklearn.model_selection import train_test_split\n",
    "from sklearn.metrics import mean_squared_error, r2_score\n",
    "from sklearn.metrics._regression import root_mean_squared_error\n",
    "from scipy.stats import boxcox\n",
    "from sklearn.preprocessing import PolynomialFeatures\n",
    "\n",
    "\n",
    "\n",
    "\n"
   ],
   "id": "f074ab9b335f365d",
   "outputs": [],
   "execution_count": 694
  },
  {
   "metadata": {
    "ExecuteTime": {
     "end_time": "2024-11-18T22:54:01.860472Z",
     "start_time": "2024-11-18T22:54:01.851155Z"
    }
   },
   "cell_type": "code",
   "source": [
    "# Wczytaj dane\n",
    "data = pd.read_csv(\"data.csv\", sep=\";\")\n",
    "# nowa kolumna o nazwie koszty = przychód - zysk \n",
    "data[\"Koszty w mln $\"] = data[\"Przychód w mln $\"] - data[\"Zysk w mln $\"]\n",
    "print(data)\n"
   ],
   "id": "1ab28ed6f1f619d5",
   "outputs": [
    {
     "name": "stdout",
     "output_type": "stream",
     "text": [
      "     Rok  Przychód w mln $  Zysk w mln $  Zatrudnienie  Użytkownicy_mln  \\\n",
      "0   2007               153          -138           450                0   \n",
      "1   2008               272           -56           850                0   \n",
      "2   2009               777           229          1218              360   \n",
      "3   2010              1974           606          2127              608   \n",
      "4   2011              3711          1000          3200              845   \n",
      "5   2012              5089            53          4619             1056   \n",
      "6   2013              7872          1500          6337             1228   \n",
      "7   2014             12466          2940          9199             1393   \n",
      "8   2015             17928          3688         12691             1591   \n",
      "9   2016             27638         10217         17048             1860   \n",
      "10  2017             40653         15934         25105             2129   \n",
      "\n",
      "    Koszty w mln $  \n",
      "0              291  \n",
      "1              328  \n",
      "2              548  \n",
      "3             1368  \n",
      "4             2711  \n",
      "5             5036  \n",
      "6             6372  \n",
      "7             9526  \n",
      "8            14240  \n",
      "9            17421  \n",
      "10           24719  \n"
     ]
    }
   ],
   "execution_count": 695
  },
  {
   "metadata": {
    "ExecuteTime": {
     "end_time": "2024-11-18T22:54:01.902270Z",
     "start_time": "2024-11-18T22:54:01.895434Z"
    }
   },
   "cell_type": "code",
   "source": [
    "\n",
    "# wszystkie korelacje\n",
    "print(data.corr())\n"
   ],
   "id": "a95e8d7b5ec428bd",
   "outputs": [
    {
     "name": "stdout",
     "output_type": "stream",
     "text": [
      "                       Rok  Przychód w mln $  Zysk w mln $  Zatrudnienie  \\\n",
      "Rok               1.000000          0.892709      0.800024      0.917137   \n",
      "Przychód w mln $  0.892709          1.000000      0.977588      0.997597   \n",
      "Zysk w mln $      0.800024          0.977588      1.000000      0.962063   \n",
      "Zatrudnienie      0.917137          0.997597      0.962063      1.000000   \n",
      "Użytkownicy_mln   0.996088          0.893330      0.805706      0.916392   \n",
      "Koszty w mln $    0.930780          0.991064      0.940772      0.997032   \n",
      "\n",
      "                  Użytkownicy_mln  Koszty w mln $  \n",
      "Rok                      0.996088        0.930780  \n",
      "Przychód w mln $         0.893330        0.991064  \n",
      "Zysk w mln $             0.805706        0.940772  \n",
      "Zatrudnienie             0.916392        0.997032  \n",
      "Użytkownicy_mln          1.000000        0.928180  \n",
      "Koszty w mln $           0.928180        1.000000  \n"
     ]
    }
   ],
   "execution_count": 696
  },
  {
   "metadata": {
    "ExecuteTime": {
     "end_time": "2024-11-18T22:54:02.085748Z",
     "start_time": "2024-11-18T22:54:01.909481Z"
    }
   },
   "cell_type": "code",
   "source": [
    "\n",
    "#3. Przychód(OY)  liczba pracowników (OX)\n",
    "\n",
    "\n",
    "#model kwadratowy nr 1\n",
    "# dane testowe pierwsze 6 wartosci, kolejne 3 wartosci to dane walidacyjne\n",
    "y_train = data[\"Przychód w mln $\"][:8]\n",
    "y_test = data[\"Przychód w mln $\"][8:]\n",
    "X_train = data[[\"Zatrudnienie\"]][:8]\n",
    "X_test = data[[\"Zatrudnienie\"]][8:]\n",
    "\n",
    "\n",
    "# zmiana danych na wielomianowe stopnia 2\n",
    "X_train_poly = np.c_[X_train, X_train**2]\n",
    "X_test_poly = np.c_[X_test, X_test**2]\n",
    "\n",
    "# trenowanie modelu\n",
    "model2 = LinearRegression()\n",
    "model2.fit(X_train_poly, y_train)\n",
    "\n",
    "# prognozy dla danych walidacyjnych\n",
    "y_pred_test = model2.predict(X_test_poly)\n",
    "\n",
    "print(\"Współczynniki modelu R^2: \", model2.score(X_test_poly, y_test))\n",
    "print(\"Współczynnik modelu RMSE:\", mean_squared_error(y_test, y_pred_test))\n",
    "\n",
    "print(\"Współczynniki modelu R^2: \", model2.score(np.c_[data[[\"Zatrudnienie\"]], data[[\"Zatrudnienie\"]]**2], data[\"Przychód w mln $\"]))\n",
    "print(\"Współczynnik modelu RMSE:\", mean_squared_error(data[\"Przychód w mln $\"], model2.predict(np.c_[data[[\"Zatrudnienie\"]], data[[\"Zatrudnienie\"]]**2])))\n",
    "\n",
    "\n",
    "# prognozy dla całego zbioru danych\n",
    "data[\"Prognoza_Przychód\"] = model2.predict(np.c_[data[[\"Zatrudnienie\"]], data[[\"Zatrudnienie\"]]**2])\n",
    "\n",
    "\n",
    "\n",
    "# Wykres\n",
    "plt.scatter(X_train, y_train, color='red', label='Dane treningowe')\n",
    "# Linia przerywana dla regresji danych treningowych\n",
    "plt.plot(\n",
    "    X_train,\n",
    "    model2.predict(X_train_poly),\n",
    "    color='blue',\n",
    "    linewidth=2,\n",
    "    label='Regresja (Dane treningowe)'\n",
    ")\n",
    "# odchylenie standardowe modelu2 np.std\n",
    "print(\"Odchylenie standardowe modelu2:\", np.std(model2.predict(X_test_poly) - y_test))\n",
    "\n",
    "plt.scatter(X_test, y_test, color='green', label='Dane walidacyjne')\n",
    "plt.plot(X_test, y_pred_test, color='orange', label='Prognozy (Dane walidacyjne)')\n",
    "\n",
    "# Wydłużenie linii regresji dla całego zbioru\n",
    "zatrudnienie_extended = np.linspace(data[\"Zatrudnienie\"].min(), data[\"Zatrudnienie\"].max() * 1.2, 500)\n",
    "prognoza_extended = model2.predict(\n",
    "    np.c_[zatrudnienie_extended, zatrudnienie_extended**2]\n",
    ")\n",
    "# Linia przerywana dla regresji całego zbioru\n",
    "plt.plot(zatrudnienie_extended, prognoza_extended, color='cyan', linestyle='dotted', label='Prognozy (Cały zbiór)')\n",
    "#bar error\n",
    "plt.legend()\n",
    "# Obliczenie reszt modelu (różnice między przewidywaniami a rzeczywistymi wartościami)\n",
    "residuals = y_test - y_pred_test\n",
    "\n",
    "# Odchylenie standardowe reszt\n",
    "std_error = np.std(residuals)\n",
    "\n",
    "# Wyznaczenie przedziału ufności\n",
    "confidence_interval = 1.96 * std_error  # 95% przedział ufności\n",
    "\n",
    "# Dodanie errorbar\n",
    "plt.errorbar(\n",
    "    X_test.squeeze(),\n",
    "    y_pred_test,\n",
    "    yerr=confidence_interval,\n",
    "    fmt='o',\n",
    "    color='orange',\n",
    "    label='Prognozy (Dane walidacyjne)'\n",
    ")\n",
    "plt.xlabel(\"Zatrudnienie\")\n",
    "plt.ylabel(\"Przychód w mln $\")\n",
    "plt.title(\"Regresja: Zatrudnienie vs Przychód oraz Przedziały Ufności\")\n",
    "plt.show()\n",
    "\n",
    "# wzór regresji kwadratowej\n",
    "\n",
    "# y = a0 + a1*x + a2*x^2\n",
    "a0 = model2.intercept_\n",
    "a1 = model2.coef_[0]\n",
    "a2 = model2.coef_[1]\n",
    "\n",
    "print(\"Wzór regresji kwadratowej:\", f\"y = {a0} + {a1} * x + {a2} * x^2\")\n",
    "\n"
   ],
   "id": "ae3992d21b6b70f2",
   "outputs": [
    {
     "name": "stdout",
     "output_type": "stream",
     "text": [
      "Współczynniki modelu R^2:  0.8121169252480658\n",
      "Współczynnik modelu RMSE: 16285286.357758908\n",
      "Współczynniki modelu R^2:  0.9714964274383514\n",
      "Współczynnik modelu RMSE: 4462872.080936857\n",
      "Odchylenie standardowe modelu2: 3044.4702431536757\n"
     ]
    },
    {
     "data": {
      "text/plain": [
       "<Figure size 640x480 with 1 Axes>"
      ],
      "image/png": "[encoded data removed]"
     },
     "metadata": {},
     "output_type": "display_data"
    },
    {
     "name": "stdout",
     "output_type": "stream",
     "text": [
      "Wzór regresji kwadratowej: y = -526.7069795869229 + 1.119395477790044 * x + 3.175135170954074e-05 * x^2\n"
     ]
    }
   ],
   "execution_count": 697
  },
  {
   "metadata": {
    "ExecuteTime": {
     "end_time": "2024-11-18T22:54:02.315976Z",
     "start_time": "2024-11-18T22:54:02.115196Z"
    }
   },
   "cell_type": "code",
   "source": [
    "# Podział na dane treningowe i walidacyjne\n",
    "X_train = data[[\"Rok\"]][:8]\n",
    "X_test = data[[\"Rok\"]][8:]\n",
    "y_train = data[\"Koszty w mln $\"][:8]\n",
    "y_test = data[\"Koszty w mln $\"][8:]\n",
    "\n",
    "# Przekształcenie na logarytmy Osi OY\n",
    "y_train_log = np.log(y_train)\n",
    "y_test_log = np.log(y_test)\n",
    "\n",
    "# Zmiana danych na wielomianowe stopnia 2\n",
    "poly = PolynomialFeatures(degree=2, include_bias=False)\n",
    "X_train_poly = poly.fit_transform(X_train)\n",
    "X_test_poly = poly.transform(X_test)\n",
    "\n",
    "# Trenowanie modelu\n",
    "model = LinearRegression()\n",
    "model.fit(X_train_poly, y_train_log)\n",
    "\n",
    "# Prognozy dla danych walidacyjnych\n",
    "y_pred_test_log = model.predict(X_test_poly)\n",
    "\n",
    "# Ocena jakości modelu na danych walidacyjnych (R^2) oraz RMSE dla modelu liniowego ale z logarytmami\n",
    "print(\"Współczynniki modelu R^2: \", model.score(X_test_poly, y_test_log))\n",
    "print(\"Współczynnik modelu RMSE:\", mean_squared_error(y_test_log, y_pred_test_log, squared=False))\n",
    "\n",
    "# Prognoza i wypisanie wartości dla lat 2018-2021\n",
    "X_future = pd.DataFrame({\"Rok\": [2018, 2019, 2020, 2021]})\n",
    "data_future = pd.concat([data, X_future], axis=0)\n",
    "data_future_poly = poly.transform(data_future[[\"Rok\"]])\n",
    "data_future[\"Prognoza_Koszty\"] = np.exp(model.predict(data_future_poly))\n",
    "\n",
    "# Wykres\n",
    "plt.scatter(X_train, y_train_log, color='red', label='Dane treningowe')\n",
    "plt.scatter(X_test, y_test_log, color='green', label='Dane walidacyjne')\n",
    "\n",
    "# Error bar dla danych walidacyjnych\n",
    "plt.errorbar(\n",
    "    X_test.squeeze(),\n",
    "    y_pred_test_log,\n",
    "    yerr=1.96 * np.std(y_pred_test_log),\n",
    "    fmt='o',\n",
    "    color='orange',\n",
    "    label='Prognozy (Dane walidacyjne)'\n",
    ")\n",
    "\n",
    "# Error bar dla data_future\n",
    "plt.errorbar(\n",
    "    data_future[[\"Rok\"]][11:],\n",
    "    np.log(data_future[\"Prognoza_Koszty\"][11:]),\n",
    "    yerr=1.96 * np.std(np.log(data_future[\"Prognoza_Koszty\"][11:])),\n",
    "    fmt='o',\n",
    "    color='black',\n",
    "    label='Prognozy (2018-2021)'\n",
    ")\n",
    "\n",
    "# Zaznaczenie prognoz dla lat 2018-2021\n",
    "plt.scatter(data_future[[\"Rok\"]][9:], np.log(data_future[\"Prognoza_Koszty\"][9:]), color='black', label='Prognozy (2018-2021)', marker='x')\n",
    "\n",
    "# Jedna linia dla regresji dane z treningu i walidacji oraz prognozy\n",
    "plt.plot(data_future[[\"Rok\"]], np.log(data_future[\"Prognoza_Koszty\"]), color='cyan', linestyle='dotted', label='Prognozy (Cały zbiór)')\n",
    "\n",
    "plt.legend()\n",
    "plt.xlabel(\"Rok\")\n",
    "plt.ylabel(\"Koszty w mln $ (log)\")\n",
    "plt.title(\"Regresja: Rok vs Koszty oraz Przedziały Ufności\")\n",
    "plt.show()"
   ],
   "id": "cdc130b692b44fc8",
   "outputs": [
    {
     "name": "stdout",
     "output_type": "stream",
     "text": [
      "Współczynniki modelu R^2:  -2.319240121965183\n",
      "Współczynnik modelu RMSE: 0.4151189379392353\n"
     ]
    },
    {
     "name": "stderr",
     "output_type": "stream",
     "text": [
      "D:\\Uczelnia\\MEDy\\pythonProject\\.venv\\Lib\\site-packages\\sklearn\\metrics\\_regression.py:492: FutureWarning:\n",
      "\n",
      "'squared' is deprecated in version 1.4 and will be removed in 1.6. To calculate the root mean squared error, use the function'root_mean_squared_error'.\n",
      "\n"
     ]
    },
    {
     "data": {
      "text/plain": [
       "<Figure size 640x480 with 1 Axes>"
      ],
      "image/png": "[encoded data removed]"
     },
     "metadata": {},
     "output_type": "display_data"
    }
   ],
   "execution_count": 698
  },
  {
   "metadata": {
    "ExecuteTime": {
     "end_time": "2024-11-18T22:54:02.440266Z",
     "start_time": "2024-11-18T22:54:02.343829Z"
    }
   },
   "cell_type": "code",
   "source": [
    "#4. Liczba pracowników (OX) przychód(OY)\n",
    "\n",
    "# dane treningowe to pierwsze 8 rekordów, a dane walidacyjne to ostatnie 3 rekordy\n",
    "#Najpierw trenujemy model na danych treningowych, a następnie przewidujemy wartości dla danych walidacyjnych\n",
    "\n",
    "# trenowanie modelu\n",
    "X_train = data[[\"Zatrudnienie\"]][:8]\n",
    "X_test = data[[\"Zatrudnienie\"]][8:]\n",
    "y_train = data[\"Przychód w mln $\"][:8]\n",
    "y_test = data[\"Przychód w mln $\"][8:]\n",
    "\n",
    "# Funkcja testująca każde podejście\n",
    "def test_transformations(X_train, X_test, y_train, y_test):\n",
    "    results = []\n",
    "\n",
    "    # 1. Logarytmiczna transformacja na y\n",
    "    y_train_log = np.log(y_train)\n",
    "    y_test_log = np.log(y_test)\n",
    "    model_log_y = LinearRegression().fit(X_train, y_train_log)\n",
    "    y_pred_log = model_log_y.predict(X_test)\n",
    "    y_pred_original = np.exp(y_pred_log)\n",
    "    results.append({\n",
    "        \"Transformation\": \"Logarithmic on y\",\n",
    "        \"R2\": r2_score(y_test, y_pred_original),\n",
    "        \"RMSE\": mean_squared_error(y_test, y_pred_original, squared=False)\n",
    "    })\n",
    "\n",
    "    # 2. Logarytmiczna transformacja na X\n",
    "    X_train_log = np.log(X_train)\n",
    "    X_test_log = np.log(X_test)\n",
    "    model_log_x = LinearRegression().fit(X_train_log, y_train)\n",
    "    y_pred_log_x = model_log_x.predict(X_test_log)\n",
    "    results.append({\n",
    "        \"Transformation\": \"Logarithmic on X\",\n",
    "        \"R2\": r2_score(y_test, y_pred_log_x),\n",
    "        \"RMSE\": mean_squared_error(y_test, y_pred_log_x, squared=False)\n",
    "    })\n",
    "\n",
    "    # 3. Pierwiastkowa transformacja na y\n",
    "    y_train_sqrt = np.sqrt(y_train)\n",
    "    y_test_sqrt = np.sqrt(y_test)\n",
    "    model_sqrt_y = LinearRegression().fit(X_train, y_train_sqrt)\n",
    "    y_pred_sqrt = model_sqrt_y.predict(X_test)\n",
    "    y_pred_original_sqrt = y_pred_sqrt ** 2\n",
    "    results.append({\n",
    "        \"Transformation\": \"Square root on y\",\n",
    "        \"R2\": r2_score(y_test, y_pred_original_sqrt),\n",
    "        \"RMSE\": mean_squared_error(y_test, y_pred_original_sqrt, squared=False)\n",
    "    })\n",
    "\n",
    "    # 4. Kwadratowa transformacja na X\n",
    "    X_train_squared = X_train ** 2\n",
    "    X_test_squared = X_test ** 2\n",
    "    model_squared_x = LinearRegression().fit(X_train_squared, y_train)\n",
    "    y_pred_squared_x = model_squared_x.predict(X_test_squared)\n",
    "    results.append({\n",
    "        \"Transformation\": \"Squared on X\",\n",
    "        \"R2\": r2_score(y_test, y_pred_squared_x),\n",
    "        \"RMSE\": mean_squared_error(y_test, y_pred_squared_x, squared=False)\n",
    "    })\n",
    "\n",
    "    # 5. Regresja wielomianowa (stopień 2)\n",
    "    poly = PolynomialFeatures(degree=2)\n",
    "    X_train_poly = poly.fit_transform(X_train)\n",
    "    X_test_poly = poly.transform(X_test)\n",
    "    model_poly = LinearRegression().fit(X_train_poly, y_train)\n",
    "    y_pred_poly = model_poly.predict(X_test_poly)\n",
    "    results.append({\n",
    "        \"Transformation\": \"Polynomial degree 2 on X\",\n",
    "        \"R2\": r2_score(y_test, y_pred_poly),\n",
    "        \"RMSE\": mean_squared_error(y_test, y_pred_poly, squared=False)\n",
    "    })\n",
    "\n",
    "    # 6. Regresja wielomianowa (stopień 3)\n",
    "    poly = PolynomialFeatures(degree=3)\n",
    "    X_train_poly3 = poly.fit_transform(X_train)\n",
    "    X_test_poly3 = poly.transform(X_test)\n",
    "    model_poly3 = LinearRegression().fit(X_train_poly3, y_train)\n",
    "    y_pred_poly3 = model_poly3.predict(X_test_poly3)\n",
    "    results.append({\n",
    "        \"Transformation\": \"Polynomial degree 3 on X\",\n",
    "        \"R2\": r2_score(y_test, y_pred_poly3),\n",
    "        \"RMSE\": mean_squared_error(y_test, y_pred_poly3, squared=False)\n",
    "    })\n",
    "\n",
    "    return results\n",
    "\n",
    "# Testowanie transformacji\n",
    "results = test_transformations(X_train, X_test, y_train, y_test)\n",
    "\n",
    "# Wypisanie wyników\n",
    "for res in results:\n",
    "    print(f\"Transformation: {res['Transformation']}\")\n",
    "    print(f\"R2: {res['R2']:.4f}, RMSE: {res['RMSE']:.4f}\\n\")\n",
    "\n"
   ],
   "id": "ddc2081156d89e5",
   "outputs": [
    {
     "name": "stdout",
     "output_type": "stream",
     "text": [
      "Transformation: Logarithmic on y\n",
      "R2: -7294558.6527, RMSE: 25145102.5060\n",
      "\n",
      "Transformation: Logarithmic on X\n",
      "R2: -3.1676, RMSE: 19006.2014\n",
      "\n",
      "Transformation: Square root on y\n",
      "R2: -9.5979, RMSE: 30308.4508\n",
      "\n",
      "Transformation: Squared on X\n",
      "R2: -10.1824, RMSE: 31133.0332\n",
      "\n",
      "Transformation: Polynomial degree 2 on X\n",
      "R2: 0.8121, RMSE: 4035.5032\n",
      "\n",
      "Transformation: Polynomial degree 3 on X\n",
      "R2: 0.1355, RMSE: 8656.5737\n",
      "\n"
     ]
    },
    {
     "name": "stderr",
     "output_type": "stream",
     "text": [
      "D:\\Uczelnia\\MEDy\\pythonProject\\.venv\\Lib\\site-packages\\sklearn\\metrics\\_regression.py:492: FutureWarning:\n",
      "\n",
      "'squared' is deprecated in version 1.4 and will be removed in 1.6. To calculate the root mean squared error, use the function'root_mean_squared_error'.\n",
      "\n",
      "D:\\Uczelnia\\MEDy\\pythonProject\\.venv\\Lib\\site-packages\\sklearn\\metrics\\_regression.py:492: FutureWarning:\n",
      "\n",
      "'squared' is deprecated in version 1.4 and will be removed in 1.6. To calculate the root mean squared error, use the function'root_mean_squared_error'.\n",
      "\n",
      "D:\\Uczelnia\\MEDy\\pythonProject\\.venv\\Lib\\site-packages\\sklearn\\metrics\\_regression.py:492: FutureWarning:\n",
      "\n",
      "'squared' is deprecated in version 1.4 and will be removed in 1.6. To calculate the root mean squared error, use the function'root_mean_squared_error'.\n",
      "\n",
      "D:\\Uczelnia\\MEDy\\pythonProject\\.venv\\Lib\\site-packages\\sklearn\\metrics\\_regression.py:492: FutureWarning:\n",
      "\n",
      "'squared' is deprecated in version 1.4 and will be removed in 1.6. To calculate the root mean squared error, use the function'root_mean_squared_error'.\n",
      "\n",
      "D:\\Uczelnia\\MEDy\\pythonProject\\.venv\\Lib\\site-packages\\sklearn\\metrics\\_regression.py:492: FutureWarning:\n",
      "\n",
      "'squared' is deprecated in version 1.4 and will be removed in 1.6. To calculate the root mean squared error, use the function'root_mean_squared_error'.\n",
      "\n",
      "D:\\Uczelnia\\MEDy\\pythonProject\\.venv\\Lib\\site-packages\\sklearn\\metrics\\_regression.py:492: FutureWarning:\n",
      "\n",
      "'squared' is deprecated in version 1.4 and will be removed in 1.6. To calculate the root mean squared error, use the function'root_mean_squared_error'.\n",
      "\n"
     ]
    }
   ],
   "execution_count": 699
  },
  {
   "metadata": {
    "ExecuteTime": {
     "end_time": "2024-11-18T22:54:02.660323Z",
     "start_time": "2024-11-18T22:54:02.495112Z"
    }
   },
   "cell_type": "code",
   "source": [
    "# DO PRZEMYŚLENIA\n",
    "#1. Przychód (OY) od liczby użytkowników (OX)\n",
    "\n",
    "# dane treningowe to pierwsze 8 rekordów, a dane walidacyjne to ostatnie 3 rekordy\n",
    "#Najpierw trenujemy model na danych treningowych, a następnie przewidujemy wartości dla danych walidacyjnych\n",
    "#Dane walidacyjne są używane do oceny jakości modelu\n",
    "#Następnie przewidujemy wartości dla całego zbioru danych, aby zobaczyć, jak model zachowuje się na całym zbiorze danych\n",
    "\n",
    "\n",
    "# trenowanie modelu\n",
    "X_train = data[[\"Użytkownicy_mln\"]][:6]\n",
    "X_test = data[[\"Użytkownicy_mln\"]][6:]\n",
    "y_train = data[\"Przychód w mln $\"][:6]\n",
    "y_test = data[\"Przychód w mln $\"][6:]\n",
    "\n",
    "#usuwanie wartości 0 z danych\n",
    "data = data[data[\"Użytkownicy_mln\"] != 0]\n",
    "\n",
    "\n",
    "\n",
    "model1 = LinearRegression()\n",
    "model1.fit(X_train, y_train)\n",
    "\n",
    "# prognozy dla danych walidacyjnych\n",
    "y_pred_test = model1.predict(X_test)\n",
    "\n",
    "# drugi model z całym zbiorem danych\n",
    "model2 = LinearRegression()\n",
    "model2.fit(data[[\"Użytkownicy_mln\"]], data[\"Przychód w mln $\"])\n",
    "\n",
    "# ocena jakości modelu na danych walidacyjnych\n",
    "print(\"Współczynniki modelu R^2: \", model1.score(X_test, y_test))\n",
    "print(\"Współczynnik modelu RMSE:\", mean_squared_error(data[\"Przychód w mln $\"], model2.predict(data[[\"Użytkownicy_mln\"]])))\n",
    "\n",
    "# prognozy dla całego zbioru danych\n",
    "data[\"Prognoza_Przychód\"] = model2.predict(data[[\"Użytkownicy_mln\"]])\n",
    "\n",
    "\n",
    "# Wykres\n",
    "plt.scatter(X_train, y_train, color='red', label='Dane treningowe')\n",
    "# Linia przerywana dla regresji danych treningowych\n",
    "plt.plot(\n",
    "    X_train,\n",
    "    model1.predict(X_train),\n",
    "    color='blue',\n",
    "    linewidth=2,\n",
    "    label='Regresja (Dane treningowe)'\n",
    ")\n",
    "\n",
    "plt.scatter(X_test, y_test, color='green', label='Dane walidacyjne')\n",
    "plt.plot(X_test, y_pred_test, color='orange', label='Prognozy (Dane walidacyjne)')\n",
    "# Wydłużenie linii regresji dla całego zbioru\n",
    "użytkownicy_extended = np.linspace(data[\"Użytkownicy_mln\"].min(), data[\"Użytkownicy_mln\"].max() * 1.2, 500)\n",
    "prognoza_extended = model2.predict(\n",
    "    użytkownicy_extended.reshape(-1, 1)\n",
    ")\n",
    "# Linia przerywana dla regresji całego zbioru\n",
    "plt.plot(użytkownicy_extended, prognoza_extended, color='cyan', linestyle='dotted', label='Prognozy (Cały zbiór)')\n",
    "#bar error\n",
    "plt.legend()\n",
    "# Obliczenie reszt modelu (różnice między przewidywaniami a rzeczywistymi wartościami)\n",
    "residuals = y_test - y_pred_test\n",
    "\n",
    "# Odchylenie standardowe reszt\n",
    "std_error = np.std(residuals)\n",
    "\n",
    "# Wyznaczenie przedziału ufności\n",
    "confidence_interval = 1.96 * std_error  # 95% przedział ufności\n",
    "\n",
    "# Dodanie errorbar\n",
    "plt.errorbar(\n",
    "    X_test.squeeze(),\n",
    "    y_pred_test,\n",
    "    yerr=confidence_interval,\n",
    "    fmt='o',\n",
    "    color='orange',\n",
    "    label='Prognozy (Dane walidacyjne)'\n",
    ")\n",
    "plt.xlabel(\"Użytkownicy_mln\")\n",
    "plt.ylabel(\"Przychód w mln $\")\n",
    "plt.title(\"Regresja: Użytkownicy_mln vs Przychód oraz Przedziały Ufności\")\n",
    "plt.show()\n",
    "\n",
    "\n",
    "\n",
    "\n",
    "# Nowy model regresji liniowej z funckją wykładniczą\n",
    "# dane treningowe to pierwsze 6 lat, a dane waliacyjne to ostatnie 3 lata\n",
    "\n",
    "\n",
    "\n",
    "# trenowanie modelu\n",
    "\n",
    "\n",
    "\n",
    "X_train_poly = np.c_[X_train, np.exp(X_train)]\n",
    "\n",
    "\n",
    "\n",
    "# trenowanie modelu\n",
    "model3 = LinearRegression()\n",
    "\n"
   ],
   "id": "4c027fafcf44a67e",
   "outputs": [
    {
     "name": "stdout",
     "output_type": "stream",
     "text": [
      "Współczynniki modelu R^2:  -1.23099631834478\n",
      "Współczynnik modelu RMSE: 20709789.269111127\n"
     ]
    },
    {
     "name": "stderr",
     "output_type": "stream",
     "text": [
      "D:\\Uczelnia\\MEDy\\pythonProject\\.venv\\Lib\\site-packages\\sklearn\\base.py:493: UserWarning:\n",
      "\n",
      "X does not have valid feature names, but LinearRegression was fitted with feature names\n",
      "\n"
     ]
    },
    {
     "data": {
      "text/plain": [
       "<Figure size 640x480 with 1 Axes>"
      ],
      "image/png": "[encoded data removed]"
     },
     "metadata": {},
     "output_type": "display_data"
    },
    {
     "name": "stderr",
     "output_type": "stream",
     "text": [
      "D:\\Uczelnia\\MEDy\\pythonProject\\.venv\\Lib\\site-packages\\pandas\\core\\internals\\blocks.py:393: RuntimeWarning:\n",
      "\n",
      "overflow encountered in exp\n",
      "\n"
     ]
    }
   ],
   "execution_count": 700
  },
  {
   "metadata": {
    "ExecuteTime": {
     "end_time": "2024-11-18T22:54:02.847140Z",
     "start_time": "2024-11-18T22:54:02.673123Z"
    }
   },
   "cell_type": "code",
   "source": [
    "#5. Liczba użytkowników (OY) od czasu (OX)\n",
    "\n",
    "# dane treningowe to pierwsze 6 rekordów, a dane walidacyjne to ostatnie 3 rekordy\n",
    "#Najpierw trenujemy model na danych treningowych, a następnie przewidujemy wartości dla danych walidacyjnyc\n",
    "\n",
    "# trenowanie modelu\n",
    "X_train = data[[\"Rok\"]][:6]\n",
    "X_test = data[[\"Rok\"]][6:]\n",
    "y_train = data[\"Użytkownicy_mln\"][:6]\n",
    "y_test = data[\"Użytkownicy_mln\"][6:]\n",
    "\n",
    "# trenowanie modelu\n",
    "model4 = LinearRegression()\n",
    "model4.fit(X_train, y_train)\n",
    "\n",
    "# prognozy dla danych walidacyjnych\n",
    "y_pred_test = model4.predict(X_test)\n",
    "\n",
    "# ocena jakości modelu na danych walidacyjnych\n",
    "print(\"Współczynniki modelu R^2: \", model4.score(X_test, y_test))\n",
    "print(\"Współczynnik modelu RMSE:\", mean_squared_error(y_test, y_pred_test))\n",
    "\n",
    "\n",
    "# wypisanie wartosci na lata 2018-2021\n",
    "X_future = pd.DataFrame({\"Rok\": [2018, 2019, 2020, 2021]})\n",
    "data_future = pd.concat([data, X_future], axis=0)\n",
    "data_future[\"Prognoza_Użytkownicy\"] = model4.predict(data_future[[\"Rok\"]])\n",
    "\n",
    "print(\"Prognozy użytkowników na lata 2018-2021:\")\n",
    "print(data_future[[\"Rok\", \"Prognoza_Użytkownicy\"]])\n",
    "# przerwa /n\n",
    "print(\"\\n\")\n",
    "\n",
    "\n",
    "# wykres\n",
    "plt.scatter(X_train, y_train, color='red', label='Dane treningowe')\n",
    "plt.scatter(X_test, y_test, color='green', label='Dane walidacyjne')\n",
    "\n",
    "# prognozy punktowe dla lat 2018-2021\n",
    "plt.scatter(data_future[[\"Rok\"]][9:], data_future[\"Prognoza_Użytkownicy\"][9:], color='black', label='Prognozy (2018-2021)', marker='x')\n",
    "# error bar dla prognozowanych wartości Dla większej dokładności mógłbyś uwzględnić wariancję zależną od wartości przewidywanych (heteroskedastyczność\n",
    "plt.errorbar(X_test, y_pred_test, yerr=1.96 * np.std(y_pred_test), fmt='o', color='orange', label='Prognozy (Dane walidacyjne)')\n",
    "plt.plot(X_test, y_pred_test, color='orange', label='Prognozy (Dane walidacyjne)')\n",
    "\n",
    "\n",
    "# wykres predykcja modelu nr 5 linia przerywana\n",
    "plt.plot(data_future[[\"Rok\"]], data_future[\"Prognoza_Użytkownicy\"], color='cyan',  linestyle='dotted'  , label='Prognozy (Cały zbiór)')\n",
    "\n",
    "plt.legend()\n",
    "plt.xlabel(\"Rok\")\n",
    "plt.ylabel(\"Użytkownicy_mln\")\n",
    "plt.title(\"Regresja: Rok vs Użytkownicy oraz Przedziały Ufności\")\n",
    "plt.show()\n",
    "\n",
    "#wyliczenie współczynników modelu\n",
    "a0 = model4.intercept_\n",
    "a1 = model4.coef_[0]\n",
    "\n",
    "print(\"Wzór regresji liniowej:\", f\"y = {a0} + {a1} * x\")\n",
    "\n",
    "\n",
    "\n"
   ],
   "id": "24e6766423ceaaf5",
   "outputs": [
    {
     "name": "stdout",
     "output_type": "stream",
     "text": [
      "Współczynniki modelu R^2:  0.9419825653067996\n",
      "Współczynnik modelu RMSE: 2798.799727889784\n",
      "Prognozy użytkowników na lata 2018-2021:\n",
      "     Rok  Prognoza_Użytkownicy\n",
      "2   2009            398.142857\n",
      "3   2010            604.885714\n",
      "4   2011            811.628571\n",
      "5   2012           1018.371429\n",
      "6   2013           1225.114286\n",
      "7   2014           1431.857143\n",
      "8   2015           1638.600000\n",
      "9   2016           1845.342857\n",
      "10  2017           2052.085714\n",
      "0   2018           2258.828571\n",
      "1   2019           2465.571429\n",
      "2   2020           2672.314286\n",
      "3   2021           2879.057143\n",
      "\n",
      "\n"
     ]
    },
    {
     "data": {
      "text/plain": [
       "<Figure size 640x480 with 1 Axes>"
      ],
      "image/png": "[encoded data removed]"
     },
     "metadata": {},
     "output_type": "display_data"
    },
    {
     "name": "stdout",
     "output_type": "stream",
     "text": [
      "Wzór regresji liniowej: y = -414948.2571428572 + 206.74285714285716 * x\n"
     ]
    }
   ],
   "execution_count": 701
  },
  {
   "metadata": {
    "ExecuteTime": {
     "end_time": "2024-11-18T22:54:02.899086Z",
     "start_time": "2024-11-18T22:54:02.872539Z"
    }
   },
   "cell_type": "code",
   "source": [
    "# wykresy\n",
    "\n",
    "fig = px.scatter_matrix(data)\n",
    "fig.show()\n",
    " "
   ],
   "id": "f67a0e770f0389c8",
   "outputs": [
    {
     "data": {
      "application/vnd.plotly.v1+json": {
       "data": [
        {
         "dimensions": [
          {
           "axis": {
            "matches": true
           },
           "label": "Rok",
           "values": [
            2009,
            2010,
            2011,
            2012,
            2013,
            2014,
            2015,
            2016,
            2017
           ]
          },
          {
           "axis": {
            "matches": true
           },
           "label": "Przychód w mln $",
           "values": [
            777,
            1974,
            3711,
            5089,
            7872,
            12466,
            17928,
            27638,
            40653
           ]
          },
          {
           "axis": {
            "matches": true
           },
           "label": "Zysk w mln $",
           "values": [
            229,
            606,
            1000,
            53,
            1500,
            2940,
            3688,
            10217,
            15934
           ]
          },
          {
           "axis": {
            "matches": true
           },
           "label": "Zatrudnienie",
           "values": [
            1218,
            2127,
            3200,
            4619,
            6337,
            9199,
            12691,
            17048,
            25105
           ]
          },
          {
           "axis": {
            "matches": true
           },
           "label": "Użytkownicy_mln",
           "values": [
            360,
            608,
            845,
            1056,
            1228,
            1393,
            1591,
            1860,
            2129
           ]
          },
          {
           "axis": {
            "matches": true
           },
           "label": "Koszty w mln $",
           "values": [
            548,
            1368,
            2711,
            5036,
            6372,
            9526,
            14240,
            17421,
            24719
           ]
          },
          {
           "axis": {
            "matches": true
           },
           "label": "Prognoza_Przychód",
           "values": [
            -5749.501991843872,
            -369.72262456475073,
            4771.437496585057,
            9348.588490520115,
            13079.725793633052,
            16659.014485572792,
            20954.16091590048,
            26789.486116699205,
            32624.81131749793
           ]
          }
         ],
         "hovertemplate": "%{xaxis.title.text}=%{x}<br>%{yaxis.title.text}=%{y}<extra></extra>",
         "legendgroup": "",
         "marker": {
          "color": "#636efa",
          "symbol": "circle"
         },
         "name": "",
         "showlegend": false,
         "type": "splom"
        }
       ],
       "layout": {
        "template": {
         "data": {
          "histogram2dcontour": [
           {
            "type": "histogram2dcontour",
            "colorbar": {
             "outlinewidth": 0,
             "ticks": ""
            },
            "colorscale": [
             [
              0.0,
              "#0d0887"
             ],
             [
              0.1111111111111111,
              "#46039f"
             ],
             [
              0.2222222222222222,
              "#7201a8"
             ],
             [
              0.3333333333333333,
              "#9c179e"
             ],
             [
              0.4444444444444444,
              "#bd3786"
             ],
             [
              0.5555555555555556,
              "#d8576b"
             ],
             [
              0.6666666666666666,
              "#ed7953"
             ],
             [
              0.7777777777777778,
              "#fb9f3a"
             ],
             [
              0.8888888888888888,
              "#fdca26"
             ],
             [
              1.0,
              "#f0f921"
             ]
            ]
           }
          ],
          "choropleth": [
           {
            "type": "choropleth",
            "colorbar": {
             "outlinewidth": 0,
             "ticks": ""
            }
           }
          ],
          "histogram2d": [
           {
            "type": "histogram2d",
            "colorbar": {
             "outlinewidth": 0,
             "ticks": ""
            },
            "colorscale": [
             [
              0.0,
              "#0d0887"
             ],
             [
              0.1111111111111111,
              "#46039f"
             ],
             [
              0.2222222222222222,
              "#7201a8"
             ],
             [
              0.3333333333333333,
              "#9c179e"
             ],
             [
              0.4444444444444444,
              "#bd3786"
             ],
             [
              0.5555555555555556,
              "#d8576b"
             ],
             [
              0.6666666666666666,
              "#ed7953"
             ],
             [
              0.7777777777777778,
              "#fb9f3a"
             ],
             [
              0.8888888888888888,
              "#fdca26"
             ],
             [
              1.0,
              "#f0f921"
             ]
            ]
           }
          ],
          "heatmap": [
           {
            "type": "heatmap",
            "colorbar": {
             "outlinewidth": 0,
             "ticks": ""
            },
            "colorscale": [
             [
              0.0,
              "#0d0887"
             ],
             [
              0.1111111111111111,
              "#46039f"
             ],
             [
              0.2222222222222222,
              "#7201a8"
             ],
             [
              0.3333333333333333,
              "#9c179e"
             ],
             [
              0.4444444444444444,
              "#bd3786"
             ],
             [
              0.5555555555555556,
              "#d8576b"
             ],
             [
              0.6666666666666666,
              "#ed7953"
             ],
             [
              0.7777777777777778,
              "#fb9f3a"
             ],
             [
              0.8888888888888888,
              "#fdca26"
             ],
             [
              1.0,
              "#f0f921"
             ]
            ]
           }
          ],
          "heatmapgl": [
           {
            "type": "heatmapgl",
            "colorbar": {
             "outlinewidth": 0,
             "ticks": ""
            },
            "colorscale": [
             [
              0.0,
              "#0d0887"
             ],
             [
              0.1111111111111111,
              "#46039f"
             ],
             [
              0.2222222222222222,
              "#7201a8"
             ],
             [
              0.3333333333333333,
              "#9c179e"
             ],
             [
              0.4444444444444444,
              "#bd3786"
             ],
             [
              0.5555555555555556,
              "#d8576b"
             ],
             [
              0.6666666666666666,
              "#ed7953"
             ],
             [
              0.7777777777777778,
              "#fb9f3a"
             ],
             [
              0.8888888888888888,
              "#fdca26"
             ],
             [
              1.0,
              "#f0f921"
             ]
            ]
           }
          ],
          "contourcarpet": [
           {
            "type": "contourcarpet",
            "colorbar": {
             "outlinewidth": 0,
             "ticks": ""
            }
           }
          ],
          "contour": [
           {
            "type": "contour",
            "colorbar": {
             "outlinewidth": 0,
             "ticks": ""
            },
            "colorscale": [
             [
              0.0,
              "#0d0887"
             ],
             [
              0.1111111111111111,
              "#46039f"
             ],
             [
              0.2222222222222222,
              "#7201a8"
             ],
             [
              0.3333333333333333,
              "#9c179e"
             ],
             [
              0.4444444444444444,
              "#bd3786"
             ],
             [
              0.5555555555555556,
              "#d8576b"
             ],
             [
              0.6666666666666666,
              "#ed7953"
             ],
             [
              0.7777777777777778,
              "#fb9f3a"
             ],
             [
              0.8888888888888888,
              "#fdca26"
             ],
             [
              1.0,
              "#f0f921"
             ]
            ]
           }
          ],
          "surface": [
           {
            "type": "surface",
            "colorbar": {
             "outlinewidth": 0,
             "ticks": ""
            },
            "colorscale": [
             [
              0.0,
              "#0d0887"
             ],
             [
              0.1111111111111111,
              "#46039f"
             ],
             [
              0.2222222222222222,
              "#7201a8"
             ],
             [
              0.3333333333333333,
              "#9c179e"
             ],
             [
              0.4444444444444444,
              "#bd3786"
             ],
             [
              0.5555555555555556,
              "#d8576b"
             ],
             [
              0.6666666666666666,
              "#ed7953"
             ],
             [
              0.7777777777777778,
              "#fb9f3a"
             ],
             [
              0.8888888888888888,
              "#fdca26"
             ],
             [
              1.0,
              "#f0f921"
             ]
            ]
           }
          ],
          "mesh3d": [
           {
            "type": "mesh3d",
            "colorbar": {
             "outlinewidth": 0,
             "ticks": ""
            }
           }
          ],
          "scatter": [
           {
            "marker": {
             "line": {
              "color": "#283442"
             }
            },
            "type": "scatter"
           }
          ],
          "parcoords": [
           {
            "type": "parcoords",
            "line": {
             "colorbar": {
              "outlinewidth": 0,
              "ticks": ""
             }
            }
           }
          ],
          "scatterpolargl": [
           {
            "type": "scatterpolargl",
            "marker": {
             "colorbar": {
              "outlinewidth": 0,
              "ticks": ""
             }
            }
           }
          ],
          "bar": [
           {
            "error_x": {
             "color": "#f2f5fa"
            },
            "error_y": {
             "color": "#f2f5fa"
            },
            "marker": {
             "line": {
              "color": "rgb(17,17,17)",
              "width": 0.5
             },
             "pattern": {
              "fillmode": "overlay",
              "size": 10,
              "solidity": 0.2
             }
            },
            "type": "bar"
           }
          ],
          "scattergeo": [
           {
            "type": "scattergeo",
            "marker": {
             "colorbar": {
              "outlinewidth": 0,
              "ticks": ""
             }
            }
           }
          ],
          "scatterpolar": [
           {
            "type": "scatterpolar",
            "marker": {
             "colorbar": {
              "outlinewidth": 0,
              "ticks": ""
             }
            }
           }
          ],
          "histogram": [
           {
            "marker": {
             "pattern": {
              "fillmode": "overlay",
              "size": 10,
              "solidity": 0.2
             }
            },
            "type": "histogram"
           }
          ],
          "scattergl": [
           {
            "marker": {
             "line": {
              "color": "#283442"
             }
            },
            "type": "scattergl"
           }
          ],
          "scatter3d": [
           {
            "type": "scatter3d",
            "line": {
             "colorbar": {
              "outlinewidth": 0,
              "ticks": ""
             }
            },
            "marker": {
             "colorbar": {
              "outlinewidth": 0,
              "ticks": ""
             }
            }
           }
          ],
          "scattermapbox": [
           {
            "type": "scattermapbox",
            "marker": {
             "colorbar": {
              "outlinewidth": 0,
              "ticks": ""
             }
            }
           }
          ],
          "scatterternary": [
           {
            "type": "scatterternary",
            "marker": {
             "colorbar": {
              "outlinewidth": 0,
              "ticks": ""
             }
            }
           }
          ],
          "scattercarpet": [
           {
            "type": "scattercarpet",
            "marker": {
             "colorbar": {
              "outlinewidth": 0,
              "ticks": ""
             }
            }
           }
          ],
          "carpet": [
           {
            "aaxis": {
             "endlinecolor": "#A2B1C6",
             "gridcolor": "#506784",
             "linecolor": "#506784",
             "minorgridcolor": "#506784",
             "startlinecolor": "#A2B1C6"
            },
            "baxis": {
             "endlinecolor": "#A2B1C6",
             "gridcolor": "#506784",
             "linecolor": "#506784",
             "minorgridcolor": "#506784",
             "startlinecolor": "#A2B1C6"
            },
            "type": "carpet"
           }
          ],
          "table": [
           {
            "cells": {
             "fill": {
              "color": "#506784"
             },
             "line": {
              "color": "rgb(17,17,17)"
             }
            },
            "header": {
             "fill": {
              "color": "#2a3f5f"
             },
             "line": {
              "color": "rgb(17,17,17)"
             }
            },
            "type": "table"
           }
          ],
          "barpolar": [
           {
            "marker": {
             "line": {
              "color": "rgb(17,17,17)",
              "width": 0.5
             },
             "pattern": {
              "fillmode": "overlay",
              "size": 10,
              "solidity": 0.2
             }
            },
            "type": "barpolar"
           }
          ],
          "pie": [
           {
            "automargin": true,
            "type": "pie"
           }
          ]
         },
         "layout": {
          "autotypenumbers": "strict",
          "colorway": [
           "#636efa",
           "#EF553B",
           "#00cc96",
           "#ab63fa",
           "#FFA15A",
           "#19d3f3",
           "#FF6692",
           "#B6E880",
           "#FF97FF",
           "#FECB52"
          ],
          "font": {
           "color": "#f2f5fa"
          },
          "hovermode": "closest",
          "hoverlabel": {
           "align": "left"
          },
          "paper_bgcolor": "rgb(17,17,17)",
          "plot_bgcolor": "rgb(17,17,17)",
          "polar": {
           "bgcolor": "rgb(17,17,17)",
           "angularaxis": {
            "gridcolor": "#506784",
            "linecolor": "#506784",
            "ticks": ""
           },
           "radialaxis": {
            "gridcolor": "#506784",
            "linecolor": "#506784",
            "ticks": ""
           }
          },
          "ternary": {
           "bgcolor": "rgb(17,17,17)",
           "aaxis": {
            "gridcolor": "#506784",
            "linecolor": "#506784",
            "ticks": ""
           },
           "baxis": {
            "gridcolor": "#506784",
            "linecolor": "#506784",
            "ticks": ""
           },
           "caxis": {
            "gridcolor": "#506784",
            "linecolor": "#506784",
            "ticks": ""
           }
          },
          "coloraxis": {
           "colorbar": {
            "outlinewidth": 0,
            "ticks": ""
           }
          },
          "colorscale": {
           "sequential": [
            [
             0.0,
             "#0d0887"
            ],
            [
             0.1111111111111111,
             "#46039f"
            ],
            [
             0.2222222222222222,
             "#7201a8"
            ],
            [
             0.3333333333333333,
             "#9c179e"
            ],
            [
             0.4444444444444444,
             "#bd3786"
            ],
            [
             0.5555555555555556,
             "#d8576b"
            ],
            [
             0.6666666666666666,
             "#ed7953"
            ],
            [
             0.7777777777777778,
             "#fb9f3a"
            ],
            [
             0.8888888888888888,
             "#fdca26"
            ],
            [
             1.0,
             "#f0f921"
            ]
           ],
           "sequentialminus": [
            [
             0.0,
             "#0d0887"
            ],
            [
             0.1111111111111111,
             "#46039f"
            ],
            [
             0.2222222222222222,
             "#7201a8"
            ],
            [
             0.3333333333333333,
             "#9c179e"
            ],
            [
             0.4444444444444444,
             "#bd3786"
            ],
            [
             0.5555555555555556,
             "#d8576b"
            ],
            [
             0.6666666666666666,
             "#ed7953"
            ],
            [
             0.7777777777777778,
             "#fb9f3a"
            ],
            [
             0.8888888888888888,
             "#fdca26"
            ],
            [
             1.0,
             "#f0f921"
            ]
           ],
           "diverging": [
            [
             0,
             "#8e0152"
            ],
            [
             0.1,
             "#c51b7d"
            ],
            [
             0.2,
             "#de77ae"
            ],
            [
             0.3,
             "#f1b6da"
            ],
            [
             0.4,
             "#fde0ef"
            ],
            [
             0.5,
             "#f7f7f7"
            ],
            [
             0.6,
             "#e6f5d0"
            ],
            [
             0.7,
             "#b8e186"
            ],
            [
             0.8,
             "#7fbc41"
            ],
            [
             0.9,
             "#4d9221"
            ],
            [
             1,
             "#276419"
            ]
           ]
          },
          "xaxis": {
           "gridcolor": "#283442",
           "linecolor": "#506784",
           "ticks": "",
           "title": {
            "standoff": 15
           },
           "zerolinecolor": "#283442",
           "automargin": true,
           "zerolinewidth": 2
          },
          "yaxis": {
           "gridcolor": "#283442",
           "linecolor": "#506784",
           "ticks": "",
           "title": {
            "standoff": 15
           },
           "zerolinecolor": "#283442",
           "automargin": true,
           "zerolinewidth": 2
          },
          "scene": {
           "xaxis": {
            "backgroundcolor": "rgb(17,17,17)",
            "gridcolor": "#506784",
            "linecolor": "#506784",
            "showbackground": true,
            "ticks": "",
            "zerolinecolor": "#C8D4E3",
            "gridwidth": 2
           },
           "yaxis": {
            "backgroundcolor": "rgb(17,17,17)",
            "gridcolor": "#506784",
            "linecolor": "#506784",
            "showbackground": true,
            "ticks": "",
            "zerolinecolor": "#C8D4E3",
            "gridwidth": 2
           },
           "zaxis": {
            "backgroundcolor": "rgb(17,17,17)",
            "gridcolor": "#506784",
            "linecolor": "#506784",
            "showbackground": true,
            "ticks": "",
            "zerolinecolor": "#C8D4E3",
            "gridwidth": 2
           }
          },
          "shapedefaults": {
           "line": {
            "color": "#f2f5fa"
           }
          },
          "annotationdefaults": {
           "arrowcolor": "#f2f5fa",
           "arrowhead": 0,
           "arrowwidth": 1
          },
          "geo": {
           "bgcolor": "rgb(17,17,17)",
           "landcolor": "rgb(17,17,17)",
           "subunitcolor": "#506784",
           "showland": true,
           "showlakes": true,
           "lakecolor": "rgb(17,17,17)"
          },
          "title": {
           "x": 0.05
          },
          "updatemenudefaults": {
           "bgcolor": "#506784",
           "borderwidth": 0
          },
          "sliderdefaults": {
           "bgcolor": "#C8D4E3",
           "borderwidth": 1,
           "bordercolor": "rgb(17,17,17)",
           "tickwidth": 0
          },
          "mapbox": {
           "style": "dark"
          }
         }
        },
        "legend": {
         "tracegroupgap": 0
        },
        "margin": {
         "t": 60
        },
        "dragmode": "select"
       },
       "config": {
        "plotlyServerURL": "https://plot.ly"
       }
      },
      "text/html": [
       "<div>                            <div id=\"f056aa0b-8a5c-46ee-9594-9350742c8400\" class=\"plotly-graph-div\" style=\"height:525px; width:100%;\"></div>            <script type=\"text/javascript\">                require([\"plotly\"], function(Plotly) {                    window.PLOTLYENV=window.PLOTLYENV || {};                                    if (document.getElementById(\"f056aa0b-8a5c-46ee-9594-9350742c8400\")) {                    Plotly.newPlot(                        \"f056aa0b-8a5c-46ee-9594-9350742c8400\",                        [{\"dimensions\":[{\"axis\":{\"matches\":true},\"label\":\"Rok\",\"values\":[2009,2010,2011,2012,2013,2014,2015,2016,2017]},{\"axis\":{\"matches\":true},\"label\":\"Przych\\u00f3d w mln $\",\"values\":[777,1974,3711,5089,7872,12466,17928,27638,40653]},{\"axis\":{\"matches\":true},\"label\":\"Zysk w mln $\",\"values\":[229,606,1000,53,1500,2940,3688,10217,15934]},{\"axis\":{\"matches\":true},\"label\":\"Zatrudnienie\",\"values\":[1218,2127,3200,4619,6337,9199,12691,17048,25105]},{\"axis\":{\"matches\":true},\"label\":\"U\\u017cytkownicy_mln\",\"values\":[360,608,845,1056,1228,1393,1591,1860,2129]},{\"axis\":{\"matches\":true},\"label\":\"Koszty w mln $\",\"values\":[548,1368,2711,5036,6372,9526,14240,17421,24719]},{\"axis\":{\"matches\":true},\"label\":\"Prognoza_Przych\\u00f3d\",\"values\":[-5749.501991843872,-369.72262456475073,4771.437496585057,9348.588490520115,13079.725793633052,16659.014485572792,20954.16091590048,26789.486116699205,32624.81131749793]}],\"hovertemplate\":\"%{xaxis.title.text}=%{x}\\u003cbr\\u003e%{yaxis.title.text}=%{y}\\u003cextra\\u003e\\u003c\\u002fextra\\u003e\",\"legendgroup\":\"\",\"marker\":{\"color\":\"#636efa\",\"symbol\":\"circle\"},\"name\":\"\",\"showlegend\":false,\"type\":\"splom\"}],                        {\"template\":{\"data\":{\"histogram2dcontour\":[{\"type\":\"histogram2dcontour\",\"colorbar\":{\"outlinewidth\":0,\"ticks\":\"\"},\"colorscale\":[[0.0,\"#0d0887\"],[0.1111111111111111,\"#46039f\"],[0.2222222222222222,\"#7201a8\"],[0.3333333333333333,\"#9c179e\"],[0.4444444444444444,\"#bd3786\"],[0.5555555555555556,\"#d8576b\"],[0.6666666666666666,\"#ed7953\"],[0.7777777777777778,\"#fb9f3a\"],[0.8888888888888888,\"#fdca26\"],[1.0,\"#f0f921\"]]}],\"choropleth\":[{\"type\":\"choropleth\",\"colorbar\":{\"outlinewidth\":0,\"ticks\":\"\"}}],\"histogram2d\":[{\"type\":\"histogram2d\",\"colorbar\":{\"outlinewidth\":0,\"ticks\":\"\"},\"colorscale\":[[0.0,\"#0d0887\"],[0.1111111111111111,\"#46039f\"],[0.2222222222222222,\"#7201a8\"],[0.3333333333333333,\"#9c179e\"],[0.4444444444444444,\"#bd3786\"],[0.5555555555555556,\"#d8576b\"],[0.6666666666666666,\"#ed7953\"],[0.7777777777777778,\"#fb9f3a\"],[0.8888888888888888,\"#fdca26\"],[1.0,\"#f0f921\"]]}],\"heatmap\":[{\"type\":\"heatmap\",\"colorbar\":{\"outlinewidth\":0,\"ticks\":\"\"},\"colorscale\":[[0.0,\"#0d0887\"],[0.1111111111111111,\"#46039f\"],[0.2222222222222222,\"#7201a8\"],[0.3333333333333333,\"#9c179e\"],[0.4444444444444444,\"#bd3786\"],[0.5555555555555556,\"#d8576b\"],[0.6666666666666666,\"#ed7953\"],[0.7777777777777778,\"#fb9f3a\"],[0.8888888888888888,\"#fdca26\"],[1.0,\"#f0f921\"]]}],\"heatmapgl\":[{\"type\":\"heatmapgl\",\"colorbar\":{\"outlinewidth\":0,\"ticks\":\"\"},\"colorscale\":[[0.0,\"#0d0887\"],[0.1111111111111111,\"#46039f\"],[0.2222222222222222,\"#7201a8\"],[0.3333333333333333,\"#9c179e\"],[0.4444444444444444,\"#bd3786\"],[0.5555555555555556,\"#d8576b\"],[0.6666666666666666,\"#ed7953\"],[0.7777777777777778,\"#fb9f3a\"],[0.8888888888888888,\"#fdca26\"],[1.0,\"#f0f921\"]]}],\"contourcarpet\":[{\"type\":\"contourcarpet\",\"colorbar\":{\"outlinewidth\":0,\"ticks\":\"\"}}],\"contour\":[{\"type\":\"contour\",\"colorbar\":{\"outlinewidth\":0,\"ticks\":\"\"},\"colorscale\":[[0.0,\"#0d0887\"],[0.1111111111111111,\"#46039f\"],[0.2222222222222222,\"#7201a8\"],[0.3333333333333333,\"#9c179e\"],[0.4444444444444444,\"#bd3786\"],[0.5555555555555556,\"#d8576b\"],[0.6666666666666666,\"#ed7953\"],[0.7777777777777778,\"#fb9f3a\"],[0.8888888888888888,\"#fdca26\"],[1.0,\"#f0f921\"]]}],\"surface\":[{\"type\":\"surface\",\"colorbar\":{\"outlinewidth\":0,\"ticks\":\"\"},\"colorscale\":[[0.0,\"#0d0887\"],[0.1111111111111111,\"#46039f\"],[0.2222222222222222,\"#7201a8\"],[0.3333333333333333,\"#9c179e\"],[0.4444444444444444,\"#bd3786\"],[0.5555555555555556,\"#d8576b\"],[0.6666666666666666,\"#ed7953\"],[0.7777777777777778,\"#fb9f3a\"],[0.8888888888888888,\"#fdca26\"],[1.0,\"#f0f921\"]]}],\"mesh3d\":[{\"type\":\"mesh3d\",\"colorbar\":{\"outlinewidth\":0,\"ticks\":\"\"}}],\"scatter\":[{\"marker\":{\"line\":{\"color\":\"#283442\"}},\"type\":\"scatter\"}],\"parcoords\":[{\"type\":\"parcoords\",\"line\":{\"colorbar\":{\"outlinewidth\":0,\"ticks\":\"\"}}}],\"scatterpolargl\":[{\"type\":\"scatterpolargl\",\"marker\":{\"colorbar\":{\"outlinewidth\":0,\"ticks\":\"\"}}}],\"bar\":[{\"error_x\":{\"color\":\"#f2f5fa\"},\"error_y\":{\"color\":\"#f2f5fa\"},\"marker\":{\"line\":{\"color\":\"rgb(17,17,17)\",\"width\":0.5},\"pattern\":{\"fillmode\":\"overlay\",\"size\":10,\"solidity\":0.2}},\"type\":\"bar\"}],\"scattergeo\":[{\"type\":\"scattergeo\",\"marker\":{\"colorbar\":{\"outlinewidth\":0,\"ticks\":\"\"}}}],\"scatterpolar\":[{\"type\":\"scatterpolar\",\"marker\":{\"colorbar\":{\"outlinewidth\":0,\"ticks\":\"\"}}}],\"histogram\":[{\"marker\":{\"pattern\":{\"fillmode\":\"overlay\",\"size\":10,\"solidity\":0.2}},\"type\":\"histogram\"}],\"scattergl\":[{\"marker\":{\"line\":{\"color\":\"#283442\"}},\"type\":\"scattergl\"}],\"scatter3d\":[{\"type\":\"scatter3d\",\"line\":{\"colorbar\":{\"outlinewidth\":0,\"ticks\":\"\"}},\"marker\":{\"colorbar\":{\"outlinewidth\":0,\"ticks\":\"\"}}}],\"scattermapbox\":[{\"type\":\"scattermapbox\",\"marker\":{\"colorbar\":{\"outlinewidth\":0,\"ticks\":\"\"}}}],\"scatterternary\":[{\"type\":\"scatterternary\",\"marker\":{\"colorbar\":{\"outlinewidth\":0,\"ticks\":\"\"}}}],\"scattercarpet\":[{\"type\":\"scattercarpet\",\"marker\":{\"colorbar\":{\"outlinewidth\":0,\"ticks\":\"\"}}}],\"carpet\":[{\"aaxis\":{\"endlinecolor\":\"#A2B1C6\",\"gridcolor\":\"#506784\",\"linecolor\":\"#506784\",\"minorgridcolor\":\"#506784\",\"startlinecolor\":\"#A2B1C6\"},\"baxis\":{\"endlinecolor\":\"#A2B1C6\",\"gridcolor\":\"#506784\",\"linecolor\":\"#506784\",\"minorgridcolor\":\"#506784\",\"startlinecolor\":\"#A2B1C6\"},\"type\":\"carpet\"}],\"table\":[{\"cells\":{\"fill\":{\"color\":\"#506784\"},\"line\":{\"color\":\"rgb(17,17,17)\"}},\"header\":{\"fill\":{\"color\":\"#2a3f5f\"},\"line\":{\"color\":\"rgb(17,17,17)\"}},\"type\":\"table\"}],\"barpolar\":[{\"marker\":{\"line\":{\"color\":\"rgb(17,17,17)\",\"width\":0.5},\"pattern\":{\"fillmode\":\"overlay\",\"size\":10,\"solidity\":0.2}},\"type\":\"barpolar\"}],\"pie\":[{\"automargin\":true,\"type\":\"pie\"}]},\"layout\":{\"autotypenumbers\":\"strict\",\"colorway\":[\"#636efa\",\"#EF553B\",\"#00cc96\",\"#ab63fa\",\"#FFA15A\",\"#19d3f3\",\"#FF6692\",\"#B6E880\",\"#FF97FF\",\"#FECB52\"],\"font\":{\"color\":\"#f2f5fa\"},\"hovermode\":\"closest\",\"hoverlabel\":{\"align\":\"left\"},\"paper_bgcolor\":\"rgb(17,17,17)\",\"plot_bgcolor\":\"rgb(17,17,17)\",\"polar\":{\"bgcolor\":\"rgb(17,17,17)\",\"angularaxis\":{\"gridcolor\":\"#506784\",\"linecolor\":\"#506784\",\"ticks\":\"\"},\"radialaxis\":{\"gridcolor\":\"#506784\",\"linecolor\":\"#506784\",\"ticks\":\"\"}},\"ternary\":{\"bgcolor\":\"rgb(17,17,17)\",\"aaxis\":{\"gridcolor\":\"#506784\",\"linecolor\":\"#506784\",\"ticks\":\"\"},\"baxis\":{\"gridcolor\":\"#506784\",\"linecolor\":\"#506784\",\"ticks\":\"\"},\"caxis\":{\"gridcolor\":\"#506784\",\"linecolor\":\"#506784\",\"ticks\":\"\"}},\"coloraxis\":{\"colorbar\":{\"outlinewidth\":0,\"ticks\":\"\"}},\"colorscale\":{\"sequential\":[[0.0,\"#0d0887\"],[0.1111111111111111,\"#46039f\"],[0.2222222222222222,\"#7201a8\"],[0.3333333333333333,\"#9c179e\"],[0.4444444444444444,\"#bd3786\"],[0.5555555555555556,\"#d8576b\"],[0.6666666666666666,\"#ed7953\"],[0.7777777777777778,\"#fb9f3a\"],[0.8888888888888888,\"#fdca26\"],[1.0,\"#f0f921\"]],\"sequentialminus\":[[0.0,\"#0d0887\"],[0.1111111111111111,\"#46039f\"],[0.2222222222222222,\"#7201a8\"],[0.3333333333333333,\"#9c179e\"],[0.4444444444444444,\"#bd3786\"],[0.5555555555555556,\"#d8576b\"],[0.6666666666666666,\"#ed7953\"],[0.7777777777777778,\"#fb9f3a\"],[0.8888888888888888,\"#fdca26\"],[1.0,\"#f0f921\"]],\"diverging\":[[0,\"#8e0152\"],[0.1,\"#c51b7d\"],[0.2,\"#de77ae\"],[0.3,\"#f1b6da\"],[0.4,\"#fde0ef\"],[0.5,\"#f7f7f7\"],[0.6,\"#e6f5d0\"],[0.7,\"#b8e186\"],[0.8,\"#7fbc41\"],[0.9,\"#4d9221\"],[1,\"#276419\"]]},\"xaxis\":{\"gridcolor\":\"#283442\",\"linecolor\":\"#506784\",\"ticks\":\"\",\"title\":{\"standoff\":15},\"zerolinecolor\":\"#283442\",\"automargin\":true,\"zerolinewidth\":2},\"yaxis\":{\"gridcolor\":\"#283442\",\"linecolor\":\"#506784\",\"ticks\":\"\",\"title\":{\"standoff\":15},\"zerolinecolor\":\"#283442\",\"automargin\":true,\"zerolinewidth\":2},\"scene\":{\"xaxis\":{\"backgroundcolor\":\"rgb(17,17,17)\",\"gridcolor\":\"#506784\",\"linecolor\":\"#506784\",\"showbackground\":true,\"ticks\":\"\",\"zerolinecolor\":\"#C8D4E3\",\"gridwidth\":2},\"yaxis\":{\"backgroundcolor\":\"rgb(17,17,17)\",\"gridcolor\":\"#506784\",\"linecolor\":\"#506784\",\"showbackground\":true,\"ticks\":\"\",\"zerolinecolor\":\"#C8D4E3\",\"gridwidth\":2},\"zaxis\":{\"backgroundcolor\":\"rgb(17,17,17)\",\"gridcolor\":\"#506784\",\"linecolor\":\"#506784\",\"showbackground\":true,\"ticks\":\"\",\"zerolinecolor\":\"#C8D4E3\",\"gridwidth\":2}},\"shapedefaults\":{\"line\":{\"color\":\"#f2f5fa\"}},\"annotationdefaults\":{\"arrowcolor\":\"#f2f5fa\",\"arrowhead\":0,\"arrowwidth\":1},\"geo\":{\"bgcolor\":\"rgb(17,17,17)\",\"landcolor\":\"rgb(17,17,17)\",\"subunitcolor\":\"#506784\",\"showland\":true,\"showlakes\":true,\"lakecolor\":\"rgb(17,17,17)\"},\"title\":{\"x\":0.05},\"updatemenudefaults\":{\"bgcolor\":\"#506784\",\"borderwidth\":0},\"sliderdefaults\":{\"bgcolor\":\"#C8D4E3\",\"borderwidth\":1,\"bordercolor\":\"rgb(17,17,17)\",\"tickwidth\":0},\"mapbox\":{\"style\":\"dark\"}}},\"legend\":{\"tracegroupgap\":0},\"margin\":{\"t\":60},\"dragmode\":\"select\"},                        {\"responsive\": true}                    ).then(function(){\n",
       "                            \n",
       "var gd = document.getElementById('f056aa0b-8a5c-46ee-9594-9350742c8400');\n",
       "var x = new MutationObserver(function (mutations, observer) {{\n",
       "        var display = window.getComputedStyle(gd).display;\n",
       "        if (!display || display === 'none') {{\n",
       "            console.log([gd, 'removed!']);\n",
       "            Plotly.purge(gd);\n",
       "            observer.disconnect();\n",
       "        }}\n",
       "}});\n",
       "\n",
       "// Listen for the removal of the full notebook cells\n",
       "var notebookContainer = gd.closest('#notebook-container');\n",
       "if (notebookContainer) {{\n",
       "    x.observe(notebookContainer, {childList: true});\n",
       "}}\n",
       "\n",
       "// Listen for the clearing of the current output cell\n",
       "var outputEl = gd.closest('.output');\n",
       "if (outputEl) {{\n",
       "    x.observe(outputEl, {childList: true});\n",
       "}}\n",
       "\n",
       "                        })                };                });            </script>        </div>"
      ]
     },
     "metadata": {},
     "output_type": "display_data"
    }
   ],
   "execution_count": 702
  },
  {
   "metadata": {},
   "cell_type": "markdown",
   "source": "",
   "id": "1ace84d20d0596f"
  },
  {
   "metadata": {},
   "cell_type": "markdown",
   "source": "",
   "id": "51f31bb20fbc2461"
  },
  {
   "metadata": {},
   "cell_type": "markdown",
   "source": "",
   "id": "597ae08b9373288f"
  }
 ],
 "metadata": {
  "kernelspec": {
   "display_name": "Python 3",
   "language": "python",
   "name": "python3"
  },
  "language_info": {
   "codemirror_mode": {
    "name": "ipython",
    "version": 2
   },
   "file_extension": ".py",
   "mimetype": "text/x-python",
   "name": "python",
   "nbconvert_exporter": "python",
   "pygments_lexer": "ipython2",
   "version": "2.7.6"
  }
 },
 "nbformat": 4,
 "nbformat_minor": 5
}
